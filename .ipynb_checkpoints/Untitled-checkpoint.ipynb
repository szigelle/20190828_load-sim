{
 "cells": [
  {
   "cell_type": "code",
   "execution_count": 16,
   "metadata": {},
   "outputs": [],
   "source": [
    "import pandas as pd\n",
    "import matplotlib.pyplot as plt\n",
    "import seaborn as sns"
   ]
  },
  {
   "cell_type": "code",
   "execution_count": 17,
   "metadata": {},
   "outputs": [],
   "source": [
    "data = pd.read_csv(\"data/tacomaWA2013_2018.csv\")"
   ]
  },
  {
   "cell_type": "code",
   "execution_count": 18,
   "metadata": {},
   "outputs": [
    {
     "data": {
      "text/html": [
       "<div>\n",
       "<style scoped>\n",
       "    .dataframe tbody tr th:only-of-type {\n",
       "        vertical-align: middle;\n",
       "    }\n",
       "\n",
       "    .dataframe tbody tr th {\n",
       "        vertical-align: top;\n",
       "    }\n",
       "\n",
       "    .dataframe thead th {\n",
       "        text-align: right;\n",
       "    }\n",
       "</style>\n",
       "<table border=\"1\" class=\"dataframe\">\n",
       "  <thead>\n",
       "    <tr style=\"text-align: right;\">\n",
       "      <th></th>\n",
       "      <th>respondent_id</th>\n",
       "      <th>plan_date</th>\n",
       "      <th>HIGH_AVG</th>\n",
       "      <th>LOW_AVG</th>\n",
       "      <th>hour01</th>\n",
       "      <th>hour02</th>\n",
       "      <th>hour03</th>\n",
       "      <th>hour04</th>\n",
       "      <th>hour05</th>\n",
       "      <th>hour06</th>\n",
       "      <th>...</th>\n",
       "      <th>hour15</th>\n",
       "      <th>hour16</th>\n",
       "      <th>hour17</th>\n",
       "      <th>hour18</th>\n",
       "      <th>hour19</th>\n",
       "      <th>hour20</th>\n",
       "      <th>hour21</th>\n",
       "      <th>hour22</th>\n",
       "      <th>hour23</th>\n",
       "      <th>hour24</th>\n",
       "    </tr>\n",
       "  </thead>\n",
       "  <tbody>\n",
       "    <tr>\n",
       "      <th>2186</th>\n",
       "      <td>139</td>\n",
       "      <td>12/27/2018</td>\n",
       "      <td>43.5</td>\n",
       "      <td>38.0</td>\n",
       "      <td>497.438049</td>\n",
       "      <td>489.438049</td>\n",
       "      <td>483.438049</td>\n",
       "      <td>484.438049</td>\n",
       "      <td>506.438049</td>\n",
       "      <td>547.438049</td>\n",
       "      <td>...</td>\n",
       "      <td>631.438049</td>\n",
       "      <td>644.438049</td>\n",
       "      <td>667.438049</td>\n",
       "      <td>701.438049</td>\n",
       "      <td>696.438049</td>\n",
       "      <td>677.438049</td>\n",
       "      <td>662.438049</td>\n",
       "      <td>621.438049</td>\n",
       "      <td>574.438049</td>\n",
       "      <td>540.438049</td>\n",
       "    </tr>\n",
       "    <tr>\n",
       "      <th>2187</th>\n",
       "      <td>139</td>\n",
       "      <td>12/28/2018</td>\n",
       "      <td>47.5</td>\n",
       "      <td>39.0</td>\n",
       "      <td>509.438049</td>\n",
       "      <td>496.438049</td>\n",
       "      <td>487.438049</td>\n",
       "      <td>490.438049</td>\n",
       "      <td>517.438049</td>\n",
       "      <td>564.438049</td>\n",
       "      <td>...</td>\n",
       "      <td>665.438049</td>\n",
       "      <td>661.438049</td>\n",
       "      <td>690.438049</td>\n",
       "      <td>691.438049</td>\n",
       "      <td>674.438049</td>\n",
       "      <td>657.438049</td>\n",
       "      <td>625.438049</td>\n",
       "      <td>598.438049</td>\n",
       "      <td>557.438049</td>\n",
       "      <td>511.438049</td>\n",
       "    </tr>\n",
       "    <tr>\n",
       "      <th>2188</th>\n",
       "      <td>139</td>\n",
       "      <td>12/29/2018</td>\n",
       "      <td>51.5</td>\n",
       "      <td>45.0</td>\n",
       "      <td>490.438049</td>\n",
       "      <td>460.438049</td>\n",
       "      <td>446.438080</td>\n",
       "      <td>444.438080</td>\n",
       "      <td>450.438080</td>\n",
       "      <td>469.438049</td>\n",
       "      <td>...</td>\n",
       "      <td>578.438049</td>\n",
       "      <td>587.438049</td>\n",
       "      <td>605.438049</td>\n",
       "      <td>619.438049</td>\n",
       "      <td>613.438049</td>\n",
       "      <td>593.438049</td>\n",
       "      <td>582.438049</td>\n",
       "      <td>549.438049</td>\n",
       "      <td>526.438049</td>\n",
       "      <td>496.438049</td>\n",
       "    </tr>\n",
       "    <tr>\n",
       "      <th>2189</th>\n",
       "      <td>139</td>\n",
       "      <td>12/30/2018</td>\n",
       "      <td>48.0</td>\n",
       "      <td>38.5</td>\n",
       "      <td>469.438049</td>\n",
       "      <td>461.438049</td>\n",
       "      <td>452.438080</td>\n",
       "      <td>457.438049</td>\n",
       "      <td>466.438049</td>\n",
       "      <td>483.438049</td>\n",
       "      <td>...</td>\n",
       "      <td>534.438049</td>\n",
       "      <td>545.438049</td>\n",
       "      <td>588.438049</td>\n",
       "      <td>632.438049</td>\n",
       "      <td>610.438049</td>\n",
       "      <td>636.438049</td>\n",
       "      <td>618.438049</td>\n",
       "      <td>601.438049</td>\n",
       "      <td>561.438049</td>\n",
       "      <td>530.438049</td>\n",
       "    </tr>\n",
       "    <tr>\n",
       "      <th>2190</th>\n",
       "      <td>139</td>\n",
       "      <td>12/31/2018</td>\n",
       "      <td>42.5</td>\n",
       "      <td>33.0</td>\n",
       "      <td>503.438049</td>\n",
       "      <td>492.438049</td>\n",
       "      <td>495.438049</td>\n",
       "      <td>506.438049</td>\n",
       "      <td>530.438049</td>\n",
       "      <td>584.438049</td>\n",
       "      <td>...</td>\n",
       "      <td>621.438049</td>\n",
       "      <td>625.438049</td>\n",
       "      <td>670.438049</td>\n",
       "      <td>712.438049</td>\n",
       "      <td>708.438049</td>\n",
       "      <td>685.438049</td>\n",
       "      <td>660.438049</td>\n",
       "      <td>630.438049</td>\n",
       "      <td>605.438049</td>\n",
       "      <td>585.438049</td>\n",
       "    </tr>\n",
       "  </tbody>\n",
       "</table>\n",
       "<p>5 rows × 28 columns</p>\n",
       "</div>"
      ],
      "text/plain": [
       "      respondent_id   plan_date  HIGH_AVG  LOW_AVG      hour01      hour02  \\\n",
       "2186            139  12/27/2018      43.5     38.0  497.438049  489.438049   \n",
       "2187            139  12/28/2018      47.5     39.0  509.438049  496.438049   \n",
       "2188            139  12/29/2018      51.5     45.0  490.438049  460.438049   \n",
       "2189            139  12/30/2018      48.0     38.5  469.438049  461.438049   \n",
       "2190            139  12/31/2018      42.5     33.0  503.438049  492.438049   \n",
       "\n",
       "          hour03      hour04      hour05      hour06  ...      hour15  \\\n",
       "2186  483.438049  484.438049  506.438049  547.438049  ...  631.438049   \n",
       "2187  487.438049  490.438049  517.438049  564.438049  ...  665.438049   \n",
       "2188  446.438080  444.438080  450.438080  469.438049  ...  578.438049   \n",
       "2189  452.438080  457.438049  466.438049  483.438049  ...  534.438049   \n",
       "2190  495.438049  506.438049  530.438049  584.438049  ...  621.438049   \n",
       "\n",
       "          hour16      hour17      hour18      hour19      hour20      hour21  \\\n",
       "2186  644.438049  667.438049  701.438049  696.438049  677.438049  662.438049   \n",
       "2187  661.438049  690.438049  691.438049  674.438049  657.438049  625.438049   \n",
       "2188  587.438049  605.438049  619.438049  613.438049  593.438049  582.438049   \n",
       "2189  545.438049  588.438049  632.438049  610.438049  636.438049  618.438049   \n",
       "2190  625.438049  670.438049  712.438049  708.438049  685.438049  660.438049   \n",
       "\n",
       "          hour22      hour23      hour24  \n",
       "2186  621.438049  574.438049  540.438049  \n",
       "2187  598.438049  557.438049  511.438049  \n",
       "2188  549.438049  526.438049  496.438049  \n",
       "2189  601.438049  561.438049  530.438049  \n",
       "2190  630.438049  605.438049  585.438049  \n",
       "\n",
       "[5 rows x 28 columns]"
      ]
     },
     "execution_count": 18,
     "metadata": {},
     "output_type": "execute_result"
    }
   ],
   "source": [
    "data.tail()"
   ]
  },
  {
   "cell_type": "code",
   "execution_count": 22,
   "metadata": {},
   "outputs": [
    {
     "data": {
      "text/plain": [
       "<matplotlib.axes._subplots.AxesSubplot at 0x28779427b70>"
      ]
     },
     "execution_count": 22,
     "metadata": {},
     "output_type": "execute_result"
    },
    {
     "data": {
      "image/png": "[encoded data removed]",
      "text/plain": [
       "<Figure size 1152x432 with 1 Axes>"
      ]
     },
     "metadata": {
      "needs_background": "light"
     },
     "output_type": "display_data"
    }
   ],
   "source": [
    "plt.figure(figsize=(16, 6))\n",
    "sns.distplot(data['HIGH_AVG'])\n",
    "sns.distplot(data['LOW_AVG'])"
   ]
  },
  {
   "cell_type": "code",
   "execution_count": 29,
   "metadata": {},
   "outputs": [],
   "source": [
    "from sklearn import preprocessing\n",
    "mm_scaler = preprocessing.MinMaxScaler()"
   ]
  },
  {
   "cell_type": "code",
   "execution_count": 39,
   "metadata": {},
   "outputs": [],
   "source": [
    "high=data['HIGH_AVG'].values.reshape(-1,1)\n",
    "low=data['LOW_AVG'].values.reshape(-1,1)"
   ]
  },
  {
   "cell_type": "code",
   "execution_count": 40,
   "metadata": {},
   "outputs": [],
   "source": [
    "high = mm_scaler.fit_transform(high)\n",
    "low = mm_scaler.fit_transform(low)"
   ]
  },
  {
   "cell_type": "code",
   "execution_count": 41,
   "metadata": {},
   "outputs": [
    {
     "data": {
      "text/plain": [
       "<matplotlib.axes._subplots.AxesSubplot at 0x287795e2550>"
      ]
     },
     "execution_count": 41,
     "metadata": {},
     "output_type": "execute_result"
    },
    {
     "data": {
      "image/png": "[encoded data removed]",
      "text/plain": [
       "<Figure size 1152x432 with 1 Axes>"
      ]
     },
     "metadata": {
      "needs_background": "light"
     },
     "output_type": "display_data"
    }
   ],
   "source": [
    "plt.figure(figsize=(16, 6))\n",
    "sns.distplot(high)\n",
    "sns.distplot(low)"
   ]
  },
  {
   "cell_type": "code",
   "execution_count": 42,
   "metadata": {},
   "outputs": [],
   "source": [
    "rscaler = preprocessing.RobustScaler()\n",
    "high=data['HIGH_AVG'].values.reshape(-1,1)\n",
    "low=data['LOW_AVG'].values.reshape(-1,1)"
   ]
  },
  {
   "cell_type": "code",
   "execution_count": 43,
   "metadata": {},
   "outputs": [],
   "source": [
    "high = rscaler.fit_transform(high)\n",
    "low = rscaler.fit_transform(low)"
   ]
  },
  {
   "cell_type": "code",
   "execution_count": 44,
   "metadata": {},
   "outputs": [
    {
     "data": {
      "text/plain": [
       "<matplotlib.axes._subplots.AxesSubplot at 0x28779a89dd8>"
      ]
     },
     "execution_count": 44,
     "metadata": {},
     "output_type": "execute_result"
    },
    {
     "data": {
      "image/png": "[encoded data removed]",
      "text/plain": [
       "<Figure size 1152x432 with 1 Axes>"
      ]
     },
     "metadata": {
      "needs_background": "light"
     },
     "output_type": "display_data"
    }
   ],
   "source": [
    "plt.figure(figsize=(16, 6))\n",
    "sns.distplot(high)\n",
    "sns.distplot(low)"
   ]
  },
  {
   "cell_type": "code",
   "execution_count": 101,
   "metadata": {},
   "outputs": [],
   "source": [
    "d = data.iloc[:, 4:]"
   ]
  },
  {
   "cell_type": "code",
   "execution_count": 102,
   "metadata": {},
   "outputs": [
    {
     "data": {
      "text/html": [
       "<div>\n",
       "<style scoped>\n",
       "    .dataframe tbody tr th:only-of-type {\n",
       "        vertical-align: middle;\n",
       "    }\n",
       "\n",
       "    .dataframe tbody tr th {\n",
       "        vertical-align: top;\n",
       "    }\n",
       "\n",
       "    .dataframe thead th {\n",
       "        text-align: right;\n",
       "    }\n",
       "</style>\n",
       "<table border=\"1\" class=\"dataframe\">\n",
       "  <thead>\n",
       "    <tr style=\"text-align: right;\">\n",
       "      <th></th>\n",
       "      <th>hour01</th>\n",
       "      <th>hour02</th>\n",
       "      <th>hour03</th>\n",
       "      <th>hour04</th>\n",
       "      <th>hour05</th>\n",
       "      <th>hour06</th>\n",
       "      <th>hour07</th>\n",
       "      <th>hour08</th>\n",
       "      <th>hour09</th>\n",
       "      <th>hour10</th>\n",
       "      <th>...</th>\n",
       "      <th>hour15</th>\n",
       "      <th>hour16</th>\n",
       "      <th>hour17</th>\n",
       "      <th>hour18</th>\n",
       "      <th>hour19</th>\n",
       "      <th>hour20</th>\n",
       "      <th>hour21</th>\n",
       "      <th>hour22</th>\n",
       "      <th>hour23</th>\n",
       "      <th>hour24</th>\n",
       "    </tr>\n",
       "  </thead>\n",
       "  <tbody>\n",
       "    <tr>\n",
       "      <th>0</th>\n",
       "      <td>580.961914</td>\n",
       "      <td>576.961914</td>\n",
       "      <td>569.961914</td>\n",
       "      <td>571.961914</td>\n",
       "      <td>595.961914</td>\n",
       "      <td>616.961914</td>\n",
       "      <td>649.961914</td>\n",
       "      <td>674.961914</td>\n",
       "      <td>688.961914</td>\n",
       "      <td>703.961914</td>\n",
       "      <td>...</td>\n",
       "      <td>642.961914</td>\n",
       "      <td>647.961914</td>\n",
       "      <td>697.961914</td>\n",
       "      <td>746.961914</td>\n",
       "      <td>747.961914</td>\n",
       "      <td>738.961914</td>\n",
       "      <td>720.961914</td>\n",
       "      <td>690.961914</td>\n",
       "      <td>642.961914</td>\n",
       "      <td>596.961914</td>\n",
       "    </tr>\n",
       "    <tr>\n",
       "      <th>1</th>\n",
       "      <td>571.961914</td>\n",
       "      <td>570.961914</td>\n",
       "      <td>561.961914</td>\n",
       "      <td>588.961914</td>\n",
       "      <td>616.961914</td>\n",
       "      <td>683.961914</td>\n",
       "      <td>751.961914</td>\n",
       "      <td>811.961914</td>\n",
       "      <td>805.961914</td>\n",
       "      <td>807.961914</td>\n",
       "      <td>...</td>\n",
       "      <td>701.961914</td>\n",
       "      <td>701.961914</td>\n",
       "      <td>750.961914</td>\n",
       "      <td>803.961914</td>\n",
       "      <td>819.961914</td>\n",
       "      <td>816.961914</td>\n",
       "      <td>791.961914</td>\n",
       "      <td>755.961914</td>\n",
       "      <td>694.961914</td>\n",
       "      <td>653.961914</td>\n",
       "    </tr>\n",
       "    <tr>\n",
       "      <th>2</th>\n",
       "      <td>618.961914</td>\n",
       "      <td>612.961914</td>\n",
       "      <td>611.961914</td>\n",
       "      <td>627.961914</td>\n",
       "      <td>661.961914</td>\n",
       "      <td>729.961914</td>\n",
       "      <td>813.961914</td>\n",
       "      <td>852.961914</td>\n",
       "      <td>843.961914</td>\n",
       "      <td>827.961914</td>\n",
       "      <td>...</td>\n",
       "      <td>712.961914</td>\n",
       "      <td>748.961914</td>\n",
       "      <td>778.961914</td>\n",
       "      <td>812.961914</td>\n",
       "      <td>803.961914</td>\n",
       "      <td>785.961914</td>\n",
       "      <td>759.961914</td>\n",
       "      <td>716.961914</td>\n",
       "      <td>649.961914</td>\n",
       "      <td>585.961914</td>\n",
       "    </tr>\n",
       "    <tr>\n",
       "      <th>3</th>\n",
       "      <td>560.961914</td>\n",
       "      <td>538.961914</td>\n",
       "      <td>533.961914</td>\n",
       "      <td>533.961914</td>\n",
       "      <td>561.961914</td>\n",
       "      <td>616.961914</td>\n",
       "      <td>690.961914</td>\n",
       "      <td>722.961914</td>\n",
       "      <td>710.961914</td>\n",
       "      <td>699.961914</td>\n",
       "      <td>...</td>\n",
       "      <td>616.961914</td>\n",
       "      <td>616.961914</td>\n",
       "      <td>653.961914</td>\n",
       "      <td>700.961914</td>\n",
       "      <td>688.961914</td>\n",
       "      <td>682.961914</td>\n",
       "      <td>654.961914</td>\n",
       "      <td>634.961914</td>\n",
       "      <td>583.961914</td>\n",
       "      <td>547.961914</td>\n",
       "    </tr>\n",
       "    <tr>\n",
       "      <th>4</th>\n",
       "      <td>507.961914</td>\n",
       "      <td>493.961914</td>\n",
       "      <td>479.961914</td>\n",
       "      <td>477.961914</td>\n",
       "      <td>480.961914</td>\n",
       "      <td>518.961914</td>\n",
       "      <td>543.961914</td>\n",
       "      <td>580.961914</td>\n",
       "      <td>612.961914</td>\n",
       "      <td>629.961914</td>\n",
       "      <td>...</td>\n",
       "      <td>626.961914</td>\n",
       "      <td>624.961914</td>\n",
       "      <td>644.961914</td>\n",
       "      <td>684.961914</td>\n",
       "      <td>672.961914</td>\n",
       "      <td>658.961914</td>\n",
       "      <td>641.961914</td>\n",
       "      <td>612.961914</td>\n",
       "      <td>574.961914</td>\n",
       "      <td>531.961914</td>\n",
       "    </tr>\n",
       "  </tbody>\n",
       "</table>\n",
       "<p>5 rows × 24 columns</p>\n",
       "</div>"
      ],
      "text/plain": [
       "       hour01      hour02      hour03      hour04      hour05      hour06  \\\n",
       "0  580.961914  576.961914  569.961914  571.961914  595.961914  616.961914   \n",
       "1  571.961914  570.961914  561.961914  588.961914  616.961914  683.961914   \n",
       "2  618.961914  612.961914  611.961914  627.961914  661.961914  729.961914   \n",
       "3  560.961914  538.961914  533.961914  533.961914  561.961914  616.961914   \n",
       "4  507.961914  493.961914  479.961914  477.961914  480.961914  518.961914   \n",
       "\n",
       "       hour07      hour08      hour09      hour10  ...      hour15  \\\n",
       "0  649.961914  674.961914  688.961914  703.961914  ...  642.961914   \n",
       "1  751.961914  811.961914  805.961914  807.961914  ...  701.961914   \n",
       "2  813.961914  852.961914  843.961914  827.961914  ...  712.961914   \n",
       "3  690.961914  722.961914  710.961914  699.961914  ...  616.961914   \n",
       "4  543.961914  580.961914  612.961914  629.961914  ...  626.961914   \n",
       "\n",
       "       hour16      hour17      hour18      hour19      hour20      hour21  \\\n",
       "0  647.961914  697.961914  746.961914  747.961914  738.961914  720.961914   \n",
       "1  701.961914  750.961914  803.961914  819.961914  816.961914  791.961914   \n",
       "2  748.961914  778.961914  812.961914  803.961914  785.961914  759.961914   \n",
       "3  616.961914  653.961914  700.961914  688.961914  682.961914  654.961914   \n",
       "4  624.961914  644.961914  684.961914  672.961914  658.961914  641.961914   \n",
       "\n",
       "       hour22      hour23      hour24  \n",
       "0  690.961914  642.961914  596.961914  \n",
       "1  755.961914  694.961914  653.961914  \n",
       "2  716.961914  649.961914  585.961914  \n",
       "3  634.961914  583.961914  547.961914  \n",
       "4  612.961914  574.961914  531.961914  \n",
       "\n",
       "[5 rows x 24 columns]"
      ]
     },
     "execution_count": 102,
     "metadata": {},
     "output_type": "execute_result"
    }
   ],
   "source": [
    "d.head()"
   ]
  },
  {
   "cell_type": "code",
   "execution_count": 104,
   "metadata": {},
   "outputs": [],
   "source": [
    "data['HIGH_AVG'] = high\n",
    "data['LOW_AVG'] = low"
   ]
  },
  {
   "cell_type": "code",
   "execution_count": 106,
   "metadata": {},
   "outputs": [],
   "source": [
    "data.to_csv(\"tacoma.csv\")"
   ]
  },
  {
   "cell_type": "code",
   "execution_count": 107,
   "metadata": {},
   "outputs": [
    {
     "data": {
      "text/html": [
       "<div>\n",
       "<style scoped>\n",
       "    .dataframe tbody tr th:only-of-type {\n",
       "        vertical-align: middle;\n",
       "    }\n",
       "\n",
       "    .dataframe tbody tr th {\n",
       "        vertical-align: top;\n",
       "    }\n",
       "\n",
       "    .dataframe thead th {\n",
       "        text-align: right;\n",
       "    }\n",
       "</style>\n",
       "<table border=\"1\" class=\"dataframe\">\n",
       "  <thead>\n",
       "    <tr style=\"text-align: right;\">\n",
       "      <th></th>\n",
       "      <th>respondent_id</th>\n",
       "      <th>plan_date</th>\n",
       "      <th>HIGH_AVG</th>\n",
       "      <th>LOW_AVG</th>\n",
       "      <th>hour01</th>\n",
       "      <th>hour02</th>\n",
       "      <th>hour03</th>\n",
       "      <th>hour04</th>\n",
       "      <th>hour05</th>\n",
       "      <th>hour06</th>\n",
       "      <th>...</th>\n",
       "      <th>hour15</th>\n",
       "      <th>hour16</th>\n",
       "      <th>hour17</th>\n",
       "      <th>hour18</th>\n",
       "      <th>hour19</th>\n",
       "      <th>hour20</th>\n",
       "      <th>hour21</th>\n",
       "      <th>hour22</th>\n",
       "      <th>hour23</th>\n",
       "      <th>hour24</th>\n",
       "    </tr>\n",
       "  </thead>\n",
       "  <tbody>\n",
       "    <tr>\n",
       "      <th>0</th>\n",
       "      <td>139</td>\n",
       "      <td>1/1/2013</td>\n",
       "      <td>-0.902439</td>\n",
       "      <td>-1.500000</td>\n",
       "      <td>580.961914</td>\n",
       "      <td>576.961914</td>\n",
       "      <td>569.961914</td>\n",
       "      <td>571.961914</td>\n",
       "      <td>595.961914</td>\n",
       "      <td>616.961914</td>\n",
       "      <td>...</td>\n",
       "      <td>642.961914</td>\n",
       "      <td>647.961914</td>\n",
       "      <td>697.961914</td>\n",
       "      <td>746.961914</td>\n",
       "      <td>747.961914</td>\n",
       "      <td>738.961914</td>\n",
       "      <td>720.961914</td>\n",
       "      <td>690.961914</td>\n",
       "      <td>642.961914</td>\n",
       "      <td>596.961914</td>\n",
       "    </tr>\n",
       "    <tr>\n",
       "      <th>1</th>\n",
       "      <td>139</td>\n",
       "      <td>1/2/2013</td>\n",
       "      <td>-0.902439</td>\n",
       "      <td>-1.423077</td>\n",
       "      <td>571.961914</td>\n",
       "      <td>570.961914</td>\n",
       "      <td>561.961914</td>\n",
       "      <td>588.961914</td>\n",
       "      <td>616.961914</td>\n",
       "      <td>683.961914</td>\n",
       "      <td>...</td>\n",
       "      <td>701.961914</td>\n",
       "      <td>701.961914</td>\n",
       "      <td>750.961914</td>\n",
       "      <td>803.961914</td>\n",
       "      <td>819.961914</td>\n",
       "      <td>816.961914</td>\n",
       "      <td>791.961914</td>\n",
       "      <td>755.961914</td>\n",
       "      <td>694.961914</td>\n",
       "      <td>653.961914</td>\n",
       "    </tr>\n",
       "    <tr>\n",
       "      <th>2</th>\n",
       "      <td>139</td>\n",
       "      <td>1/3/2013</td>\n",
       "      <td>-0.878049</td>\n",
       "      <td>-1.538462</td>\n",
       "      <td>618.961914</td>\n",
       "      <td>612.961914</td>\n",
       "      <td>611.961914</td>\n",
       "      <td>627.961914</td>\n",
       "      <td>661.961914</td>\n",
       "      <td>729.961914</td>\n",
       "      <td>...</td>\n",
       "      <td>712.961914</td>\n",
       "      <td>748.961914</td>\n",
       "      <td>778.961914</td>\n",
       "      <td>812.961914</td>\n",
       "      <td>803.961914</td>\n",
       "      <td>785.961914</td>\n",
       "      <td>759.961914</td>\n",
       "      <td>716.961914</td>\n",
       "      <td>649.961914</td>\n",
       "      <td>585.961914</td>\n",
       "    </tr>\n",
       "    <tr>\n",
       "      <th>3</th>\n",
       "      <td>139</td>\n",
       "      <td>1/4/2013</td>\n",
       "      <td>-0.463415</td>\n",
       "      <td>-0.807692</td>\n",
       "      <td>560.961914</td>\n",
       "      <td>538.961914</td>\n",
       "      <td>533.961914</td>\n",
       "      <td>533.961914</td>\n",
       "      <td>561.961914</td>\n",
       "      <td>616.961914</td>\n",
       "      <td>...</td>\n",
       "      <td>616.961914</td>\n",
       "      <td>616.961914</td>\n",
       "      <td>653.961914</td>\n",
       "      <td>700.961914</td>\n",
       "      <td>688.961914</td>\n",
       "      <td>682.961914</td>\n",
       "      <td>654.961914</td>\n",
       "      <td>634.961914</td>\n",
       "      <td>583.961914</td>\n",
       "      <td>547.961914</td>\n",
       "    </tr>\n",
       "    <tr>\n",
       "      <th>4</th>\n",
       "      <td>139</td>\n",
       "      <td>1/5/2013</td>\n",
       "      <td>-0.634146</td>\n",
       "      <td>-0.538462</td>\n",
       "      <td>507.961914</td>\n",
       "      <td>493.961914</td>\n",
       "      <td>479.961914</td>\n",
       "      <td>477.961914</td>\n",
       "      <td>480.961914</td>\n",
       "      <td>518.961914</td>\n",
       "      <td>...</td>\n",
       "      <td>626.961914</td>\n",
       "      <td>624.961914</td>\n",
       "      <td>644.961914</td>\n",
       "      <td>684.961914</td>\n",
       "      <td>672.961914</td>\n",
       "      <td>658.961914</td>\n",
       "      <td>641.961914</td>\n",
       "      <td>612.961914</td>\n",
       "      <td>574.961914</td>\n",
       "      <td>531.961914</td>\n",
       "    </tr>\n",
       "    <tr>\n",
       "      <th>5</th>\n",
       "      <td>139</td>\n",
       "      <td>1/6/2013</td>\n",
       "      <td>-0.634146</td>\n",
       "      <td>-0.653846</td>\n",
       "      <td>512.961914</td>\n",
       "      <td>495.961914</td>\n",
       "      <td>485.961914</td>\n",
       "      <td>491.961914</td>\n",
       "      <td>496.961914</td>\n",
       "      <td>513.961914</td>\n",
       "      <td>...</td>\n",
       "      <td>603.961914</td>\n",
       "      <td>604.961914</td>\n",
       "      <td>636.961914</td>\n",
       "      <td>681.961914</td>\n",
       "      <td>680.961914</td>\n",
       "      <td>660.961914</td>\n",
       "      <td>645.961914</td>\n",
       "      <td>611.961914</td>\n",
       "      <td>566.961914</td>\n",
       "      <td>517.961914</td>\n",
       "    </tr>\n",
       "    <tr>\n",
       "      <th>6</th>\n",
       "      <td>139</td>\n",
       "      <td>1/7/2013</td>\n",
       "      <td>-0.463415</td>\n",
       "      <td>-0.461538</td>\n",
       "      <td>489.961914</td>\n",
       "      <td>472.961914</td>\n",
       "      <td>470.961914</td>\n",
       "      <td>479.961914</td>\n",
       "      <td>507.961914</td>\n",
       "      <td>577.961914</td>\n",
       "      <td>...</td>\n",
       "      <td>643.961914</td>\n",
       "      <td>649.961914</td>\n",
       "      <td>684.961914</td>\n",
       "      <td>725.961914</td>\n",
       "      <td>726.961914</td>\n",
       "      <td>709.961914</td>\n",
       "      <td>679.961914</td>\n",
       "      <td>636.961914</td>\n",
       "      <td>577.961914</td>\n",
       "      <td>520.961914</td>\n",
       "    </tr>\n",
       "    <tr>\n",
       "      <th>7</th>\n",
       "      <td>139</td>\n",
       "      <td>1/8/2013</td>\n",
       "      <td>-0.341463</td>\n",
       "      <td>-0.384615</td>\n",
       "      <td>496.961914</td>\n",
       "      <td>473.961914</td>\n",
       "      <td>472.961914</td>\n",
       "      <td>482.961914</td>\n",
       "      <td>505.961914</td>\n",
       "      <td>567.961914</td>\n",
       "      <td>...</td>\n",
       "      <td>641.961914</td>\n",
       "      <td>653.961914</td>\n",
       "      <td>681.961914</td>\n",
       "      <td>705.961914</td>\n",
       "      <td>705.961914</td>\n",
       "      <td>683.961914</td>\n",
       "      <td>656.961914</td>\n",
       "      <td>613.961914</td>\n",
       "      <td>556.961914</td>\n",
       "      <td>496.961914</td>\n",
       "    </tr>\n",
       "    <tr>\n",
       "      <th>8</th>\n",
       "      <td>139</td>\n",
       "      <td>1/9/2013</td>\n",
       "      <td>-0.365854</td>\n",
       "      <td>-0.769231</td>\n",
       "      <td>466.961914</td>\n",
       "      <td>451.961883</td>\n",
       "      <td>448.961883</td>\n",
       "      <td>454.961914</td>\n",
       "      <td>492.961914</td>\n",
       "      <td>561.961914</td>\n",
       "      <td>...</td>\n",
       "      <td>693.961914</td>\n",
       "      <td>695.961914</td>\n",
       "      <td>725.961914</td>\n",
       "      <td>780.961914</td>\n",
       "      <td>782.961914</td>\n",
       "      <td>774.961914</td>\n",
       "      <td>746.961914</td>\n",
       "      <td>716.961914</td>\n",
       "      <td>656.961914</td>\n",
       "      <td>604.961914</td>\n",
       "    </tr>\n",
       "    <tr>\n",
       "      <th>9</th>\n",
       "      <td>139</td>\n",
       "      <td>1/10/2013</td>\n",
       "      <td>-0.609756</td>\n",
       "      <td>-1.000000</td>\n",
       "      <td>568.961914</td>\n",
       "      <td>557.961914</td>\n",
       "      <td>556.961914</td>\n",
       "      <td>566.961914</td>\n",
       "      <td>597.961914</td>\n",
       "      <td>673.961914</td>\n",
       "      <td>...</td>\n",
       "      <td>713.961914</td>\n",
       "      <td>721.961914</td>\n",
       "      <td>752.961914</td>\n",
       "      <td>792.961914</td>\n",
       "      <td>786.961914</td>\n",
       "      <td>776.961914</td>\n",
       "      <td>754.961914</td>\n",
       "      <td>707.961914</td>\n",
       "      <td>649.961914</td>\n",
       "      <td>595.961914</td>\n",
       "    </tr>\n",
       "    <tr>\n",
       "      <th>10</th>\n",
       "      <td>139</td>\n",
       "      <td>1/11/2013</td>\n",
       "      <td>-1.024390</td>\n",
       "      <td>-1.384615</td>\n",
       "      <td>569.961914</td>\n",
       "      <td>555.961914</td>\n",
       "      <td>564.961914</td>\n",
       "      <td>577.961914</td>\n",
       "      <td>617.961914</td>\n",
       "      <td>694.961914</td>\n",
       "      <td>...</td>\n",
       "      <td>681.961914</td>\n",
       "      <td>687.961914</td>\n",
       "      <td>735.961914</td>\n",
       "      <td>796.961914</td>\n",
       "      <td>812.961914</td>\n",
       "      <td>786.961914</td>\n",
       "      <td>776.961914</td>\n",
       "      <td>737.961914</td>\n",
       "      <td>700.961914</td>\n",
       "      <td>661.961914</td>\n",
       "    </tr>\n",
       "    <tr>\n",
       "      <th>11</th>\n",
       "      <td>139</td>\n",
       "      <td>1/12/2013</td>\n",
       "      <td>-1.097561</td>\n",
       "      <td>-1.615385</td>\n",
       "      <td>629.961914</td>\n",
       "      <td>621.961914</td>\n",
       "      <td>622.961914</td>\n",
       "      <td>632.961914</td>\n",
       "      <td>645.961914</td>\n",
       "      <td>674.961914</td>\n",
       "      <td>...</td>\n",
       "      <td>671.961914</td>\n",
       "      <td>673.961914</td>\n",
       "      <td>708.961914</td>\n",
       "      <td>769.961914</td>\n",
       "      <td>779.961914</td>\n",
       "      <td>773.961914</td>\n",
       "      <td>754.961914</td>\n",
       "      <td>741.961914</td>\n",
       "      <td>693.961914</td>\n",
       "      <td>658.961914</td>\n",
       "    </tr>\n",
       "    <tr>\n",
       "      <th>12</th>\n",
       "      <td>139</td>\n",
       "      <td>1/13/2013</td>\n",
       "      <td>-1.146341</td>\n",
       "      <td>-1.615385</td>\n",
       "      <td>641.961914</td>\n",
       "      <td>632.961914</td>\n",
       "      <td>635.961914</td>\n",
       "      <td>635.961914</td>\n",
       "      <td>661.961914</td>\n",
       "      <td>683.961914</td>\n",
       "      <td>...</td>\n",
       "      <td>706.961914</td>\n",
       "      <td>713.961914</td>\n",
       "      <td>741.961914</td>\n",
       "      <td>798.961914</td>\n",
       "      <td>812.961914</td>\n",
       "      <td>810.961914</td>\n",
       "      <td>799.961914</td>\n",
       "      <td>758.961914</td>\n",
       "      <td>699.961914</td>\n",
       "      <td>647.961914</td>\n",
       "    </tr>\n",
       "    <tr>\n",
       "      <th>13</th>\n",
       "      <td>139</td>\n",
       "      <td>1/14/2013</td>\n",
       "      <td>-1.121951</td>\n",
       "      <td>-1.615385</td>\n",
       "      <td>629.961914</td>\n",
       "      <td>623.961914</td>\n",
       "      <td>632.961914</td>\n",
       "      <td>650.961914</td>\n",
       "      <td>675.961914</td>\n",
       "      <td>757.961914</td>\n",
       "      <td>...</td>\n",
       "      <td>740.961914</td>\n",
       "      <td>766.961914</td>\n",
       "      <td>785.961914</td>\n",
       "      <td>839.961914</td>\n",
       "      <td>846.961914</td>\n",
       "      <td>823.961914</td>\n",
       "      <td>795.961914</td>\n",
       "      <td>746.961914</td>\n",
       "      <td>686.961914</td>\n",
       "      <td>623.961914</td>\n",
       "    </tr>\n",
       "    <tr>\n",
       "      <th>14</th>\n",
       "      <td>139</td>\n",
       "      <td>1/15/2013</td>\n",
       "      <td>-0.829268</td>\n",
       "      <td>-1.192308</td>\n",
       "      <td>591.961914</td>\n",
       "      <td>592.961914</td>\n",
       "      <td>584.961914</td>\n",
       "      <td>594.961914</td>\n",
       "      <td>631.961914</td>\n",
       "      <td>695.961914</td>\n",
       "      <td>...</td>\n",
       "      <td>657.961914</td>\n",
       "      <td>667.961914</td>\n",
       "      <td>703.961914</td>\n",
       "      <td>774.961914</td>\n",
       "      <td>795.961914</td>\n",
       "      <td>788.961914</td>\n",
       "      <td>774.961914</td>\n",
       "      <td>739.961914</td>\n",
       "      <td>685.961914</td>\n",
       "      <td>626.961914</td>\n",
       "    </tr>\n",
       "    <tr>\n",
       "      <th>15</th>\n",
       "      <td>139</td>\n",
       "      <td>1/16/2013</td>\n",
       "      <td>-0.878049</td>\n",
       "      <td>-1.461538</td>\n",
       "      <td>610.961914</td>\n",
       "      <td>607.961914</td>\n",
       "      <td>608.961914</td>\n",
       "      <td>625.961914</td>\n",
       "      <td>671.961914</td>\n",
       "      <td>740.961914</td>\n",
       "      <td>...</td>\n",
       "      <td>705.961914</td>\n",
       "      <td>700.961914</td>\n",
       "      <td>731.961914</td>\n",
       "      <td>805.961914</td>\n",
       "      <td>818.961914</td>\n",
       "      <td>815.961914</td>\n",
       "      <td>793.961914</td>\n",
       "      <td>752.961914</td>\n",
       "      <td>701.961914</td>\n",
       "      <td>646.961914</td>\n",
       "    </tr>\n",
       "    <tr>\n",
       "      <th>16</th>\n",
       "      <td>139</td>\n",
       "      <td>1/17/2013</td>\n",
       "      <td>-1.024390</td>\n",
       "      <td>-1.346154</td>\n",
       "      <td>614.961914</td>\n",
       "      <td>616.961914</td>\n",
       "      <td>612.961914</td>\n",
       "      <td>631.961914</td>\n",
       "      <td>671.961914</td>\n",
       "      <td>743.961914</td>\n",
       "      <td>...</td>\n",
       "      <td>726.961914</td>\n",
       "      <td>733.961914</td>\n",
       "      <td>764.961914</td>\n",
       "      <td>821.961914</td>\n",
       "      <td>814.961914</td>\n",
       "      <td>802.961914</td>\n",
       "      <td>781.961914</td>\n",
       "      <td>741.961914</td>\n",
       "      <td>679.961914</td>\n",
       "      <td>621.961914</td>\n",
       "    </tr>\n",
       "    <tr>\n",
       "      <th>17</th>\n",
       "      <td>139</td>\n",
       "      <td>1/18/2013</td>\n",
       "      <td>-1.048780</td>\n",
       "      <td>-1.269231</td>\n",
       "      <td>598.961914</td>\n",
       "      <td>582.961914</td>\n",
       "      <td>589.961914</td>\n",
       "      <td>598.961914</td>\n",
       "      <td>635.961914</td>\n",
       "      <td>707.961914</td>\n",
       "      <td>...</td>\n",
       "      <td>719.961914</td>\n",
       "      <td>727.961914</td>\n",
       "      <td>754.961914</td>\n",
       "      <td>786.961914</td>\n",
       "      <td>783.961914</td>\n",
       "      <td>761.961914</td>\n",
       "      <td>740.961914</td>\n",
       "      <td>703.961914</td>\n",
       "      <td>653.961914</td>\n",
       "      <td>605.961914</td>\n",
       "    </tr>\n",
       "    <tr>\n",
       "      <th>18</th>\n",
       "      <td>139</td>\n",
       "      <td>1/19/2013</td>\n",
       "      <td>-1.000000</td>\n",
       "      <td>-1.076923</td>\n",
       "      <td>570.961914</td>\n",
       "      <td>562.961914</td>\n",
       "      <td>554.961914</td>\n",
       "      <td>567.961914</td>\n",
       "      <td>569.961914</td>\n",
       "      <td>600.961914</td>\n",
       "      <td>...</td>\n",
       "      <td>701.961914</td>\n",
       "      <td>700.961914</td>\n",
       "      <td>719.961914</td>\n",
       "      <td>754.961914</td>\n",
       "      <td>751.961914</td>\n",
       "      <td>736.961914</td>\n",
       "      <td>718.961914</td>\n",
       "      <td>687.961914</td>\n",
       "      <td>644.961914</td>\n",
       "      <td>607.961914</td>\n",
       "    </tr>\n",
       "    <tr>\n",
       "      <th>19</th>\n",
       "      <td>139</td>\n",
       "      <td>1/20/2013</td>\n",
       "      <td>-1.048780</td>\n",
       "      <td>-1.076923</td>\n",
       "      <td>575.961914</td>\n",
       "      <td>563.961914</td>\n",
       "      <td>552.961914</td>\n",
       "      <td>557.961914</td>\n",
       "      <td>565.961914</td>\n",
       "      <td>591.961914</td>\n",
       "      <td>...</td>\n",
       "      <td>691.961914</td>\n",
       "      <td>689.961914</td>\n",
       "      <td>701.961914</td>\n",
       "      <td>750.961914</td>\n",
       "      <td>748.961914</td>\n",
       "      <td>736.961914</td>\n",
       "      <td>711.961914</td>\n",
       "      <td>676.961914</td>\n",
       "      <td>631.961914</td>\n",
       "      <td>586.961914</td>\n",
       "    </tr>\n",
       "    <tr>\n",
       "      <th>20</th>\n",
       "      <td>139</td>\n",
       "      <td>1/21/2013</td>\n",
       "      <td>-1.097561</td>\n",
       "      <td>-1.076923</td>\n",
       "      <td>562.961914</td>\n",
       "      <td>542.961914</td>\n",
       "      <td>545.961914</td>\n",
       "      <td>552.961914</td>\n",
       "      <td>582.961914</td>\n",
       "      <td>625.961914</td>\n",
       "      <td>...</td>\n",
       "      <td>755.961914</td>\n",
       "      <td>755.961914</td>\n",
       "      <td>774.961914</td>\n",
       "      <td>815.961914</td>\n",
       "      <td>816.961914</td>\n",
       "      <td>800.961914</td>\n",
       "      <td>773.961914</td>\n",
       "      <td>735.961914</td>\n",
       "      <td>670.961914</td>\n",
       "      <td>618.961914</td>\n",
       "    </tr>\n",
       "    <tr>\n",
       "      <th>21</th>\n",
       "      <td>139</td>\n",
       "      <td>1/22/2013</td>\n",
       "      <td>-1.024390</td>\n",
       "      <td>-1.307692</td>\n",
       "      <td>583.961914</td>\n",
       "      <td>572.961914</td>\n",
       "      <td>575.961914</td>\n",
       "      <td>590.961914</td>\n",
       "      <td>620.961914</td>\n",
       "      <td>690.961914</td>\n",
       "      <td>...</td>\n",
       "      <td>730.961914</td>\n",
       "      <td>729.961914</td>\n",
       "      <td>765.961914</td>\n",
       "      <td>808.961914</td>\n",
       "      <td>813.961914</td>\n",
       "      <td>786.961914</td>\n",
       "      <td>776.961914</td>\n",
       "      <td>718.961914</td>\n",
       "      <td>649.961914</td>\n",
       "      <td>592.961914</td>\n",
       "    </tr>\n",
       "    <tr>\n",
       "      <th>22</th>\n",
       "      <td>139</td>\n",
       "      <td>1/23/2013</td>\n",
       "      <td>-0.853659</td>\n",
       "      <td>-0.807692</td>\n",
       "      <td>563.961914</td>\n",
       "      <td>554.961914</td>\n",
       "      <td>543.961914</td>\n",
       "      <td>547.961914</td>\n",
       "      <td>586.961914</td>\n",
       "      <td>649.961914</td>\n",
       "      <td>...</td>\n",
       "      <td>719.961914</td>\n",
       "      <td>730.961914</td>\n",
       "      <td>748.961914</td>\n",
       "      <td>787.961914</td>\n",
       "      <td>785.961914</td>\n",
       "      <td>765.961914</td>\n",
       "      <td>733.961914</td>\n",
       "      <td>693.961914</td>\n",
       "      <td>628.961914</td>\n",
       "      <td>572.961914</td>\n",
       "    </tr>\n",
       "    <tr>\n",
       "      <th>23</th>\n",
       "      <td>139</td>\n",
       "      <td>1/24/2013</td>\n",
       "      <td>-0.707317</td>\n",
       "      <td>-0.846154</td>\n",
       "      <td>542.961914</td>\n",
       "      <td>537.961914</td>\n",
       "      <td>531.961914</td>\n",
       "      <td>550.961914</td>\n",
       "      <td>577.961914</td>\n",
       "      <td>649.961914</td>\n",
       "      <td>...</td>\n",
       "      <td>681.961914</td>\n",
       "      <td>685.961914</td>\n",
       "      <td>720.961914</td>\n",
       "      <td>752.961914</td>\n",
       "      <td>756.961914</td>\n",
       "      <td>736.961914</td>\n",
       "      <td>715.961914</td>\n",
       "      <td>661.961914</td>\n",
       "      <td>607.961914</td>\n",
       "      <td>555.961914</td>\n",
       "    </tr>\n",
       "    <tr>\n",
       "      <th>24</th>\n",
       "      <td>139</td>\n",
       "      <td>1/25/2013</td>\n",
       "      <td>-0.365854</td>\n",
       "      <td>-0.538462</td>\n",
       "      <td>515.961914</td>\n",
       "      <td>497.961914</td>\n",
       "      <td>491.961914</td>\n",
       "      <td>497.961914</td>\n",
       "      <td>518.961914</td>\n",
       "      <td>586.961914</td>\n",
       "      <td>...</td>\n",
       "      <td>592.961914</td>\n",
       "      <td>581.961914</td>\n",
       "      <td>604.961914</td>\n",
       "      <td>655.961914</td>\n",
       "      <td>675.961914</td>\n",
       "      <td>656.961914</td>\n",
       "      <td>646.961914</td>\n",
       "      <td>618.961914</td>\n",
       "      <td>589.961914</td>\n",
       "      <td>551.961914</td>\n",
       "    </tr>\n",
       "    <tr>\n",
       "      <th>25</th>\n",
       "      <td>139</td>\n",
       "      <td>1/26/2013</td>\n",
       "      <td>-0.487805</td>\n",
       "      <td>-0.692308</td>\n",
       "      <td>521.961914</td>\n",
       "      <td>518.961914</td>\n",
       "      <td>507.961914</td>\n",
       "      <td>507.961914</td>\n",
       "      <td>516.961914</td>\n",
       "      <td>546.961914</td>\n",
       "      <td>...</td>\n",
       "      <td>582.961914</td>\n",
       "      <td>578.961914</td>\n",
       "      <td>608.961914</td>\n",
       "      <td>665.961914</td>\n",
       "      <td>666.961914</td>\n",
       "      <td>661.961914</td>\n",
       "      <td>642.961914</td>\n",
       "      <td>617.961914</td>\n",
       "      <td>576.961914</td>\n",
       "      <td>539.961914</td>\n",
       "    </tr>\n",
       "    <tr>\n",
       "      <th>26</th>\n",
       "      <td>139</td>\n",
       "      <td>1/27/2013</td>\n",
       "      <td>-0.780488</td>\n",
       "      <td>-0.500000</td>\n",
       "      <td>512.961914</td>\n",
       "      <td>495.961914</td>\n",
       "      <td>482.961914</td>\n",
       "      <td>489.961914</td>\n",
       "      <td>492.961914</td>\n",
       "      <td>516.961914</td>\n",
       "      <td>...</td>\n",
       "      <td>649.961914</td>\n",
       "      <td>665.961914</td>\n",
       "      <td>680.961914</td>\n",
       "      <td>725.961914</td>\n",
       "      <td>725.961914</td>\n",
       "      <td>709.961914</td>\n",
       "      <td>694.961914</td>\n",
       "      <td>646.961914</td>\n",
       "      <td>600.961914</td>\n",
       "      <td>548.961914</td>\n",
       "    </tr>\n",
       "    <tr>\n",
       "      <th>27</th>\n",
       "      <td>139</td>\n",
       "      <td>1/28/2013</td>\n",
       "      <td>-0.780488</td>\n",
       "      <td>-0.615385</td>\n",
       "      <td>522.961914</td>\n",
       "      <td>496.961914</td>\n",
       "      <td>502.961914</td>\n",
       "      <td>506.961914</td>\n",
       "      <td>536.961914</td>\n",
       "      <td>603.961914</td>\n",
       "      <td>...</td>\n",
       "      <td>710.961914</td>\n",
       "      <td>708.961914</td>\n",
       "      <td>731.961914</td>\n",
       "      <td>755.961914</td>\n",
       "      <td>759.961914</td>\n",
       "      <td>743.961914</td>\n",
       "      <td>705.961914</td>\n",
       "      <td>655.961914</td>\n",
       "      <td>595.961914</td>\n",
       "      <td>543.961914</td>\n",
       "    </tr>\n",
       "    <tr>\n",
       "      <th>28</th>\n",
       "      <td>139</td>\n",
       "      <td>1/29/2013</td>\n",
       "      <td>-0.512195</td>\n",
       "      <td>-0.346154</td>\n",
       "      <td>510.961914</td>\n",
       "      <td>491.961914</td>\n",
       "      <td>486.961914</td>\n",
       "      <td>491.961914</td>\n",
       "      <td>521.961914</td>\n",
       "      <td>579.961914</td>\n",
       "      <td>...</td>\n",
       "      <td>648.961914</td>\n",
       "      <td>656.961914</td>\n",
       "      <td>685.961914</td>\n",
       "      <td>715.961914</td>\n",
       "      <td>715.961914</td>\n",
       "      <td>703.961914</td>\n",
       "      <td>683.961914</td>\n",
       "      <td>633.961914</td>\n",
       "      <td>577.961914</td>\n",
       "      <td>528.961914</td>\n",
       "    </tr>\n",
       "    <tr>\n",
       "      <th>29</th>\n",
       "      <td>139</td>\n",
       "      <td>1/30/2013</td>\n",
       "      <td>-0.512195</td>\n",
       "      <td>-0.153846</td>\n",
       "      <td>493.961914</td>\n",
       "      <td>478.961914</td>\n",
       "      <td>463.961914</td>\n",
       "      <td>470.961914</td>\n",
       "      <td>507.961914</td>\n",
       "      <td>561.961914</td>\n",
       "      <td>...</td>\n",
       "      <td>639.961914</td>\n",
       "      <td>643.961914</td>\n",
       "      <td>654.961914</td>\n",
       "      <td>626.961914</td>\n",
       "      <td>684.961914</td>\n",
       "      <td>677.961914</td>\n",
       "      <td>661.961914</td>\n",
       "      <td>619.961914</td>\n",
       "      <td>564.961914</td>\n",
       "      <td>507.961914</td>\n",
       "    </tr>\n",
       "    <tr>\n",
       "      <th>...</th>\n",
       "      <td>...</td>\n",
       "      <td>...</td>\n",
       "      <td>...</td>\n",
       "      <td>...</td>\n",
       "      <td>...</td>\n",
       "      <td>...</td>\n",
       "      <td>...</td>\n",
       "      <td>...</td>\n",
       "      <td>...</td>\n",
       "      <td>...</td>\n",
       "      <td>...</td>\n",
       "      <td>...</td>\n",
       "      <td>...</td>\n",
       "      <td>...</td>\n",
       "      <td>...</td>\n",
       "      <td>...</td>\n",
       "      <td>...</td>\n",
       "      <td>...</td>\n",
       "      <td>...</td>\n",
       "      <td>...</td>\n",
       "      <td>...</td>\n",
       "    </tr>\n",
       "    <tr>\n",
       "      <th>2161</th>\n",
       "      <td>139</td>\n",
       "      <td>12/2/2018</td>\n",
       "      <td>-0.682927</td>\n",
       "      <td>-0.653846</td>\n",
       "      <td>455.438049</td>\n",
       "      <td>445.438080</td>\n",
       "      <td>435.438080</td>\n",
       "      <td>443.438080</td>\n",
       "      <td>442.438080</td>\n",
       "      <td>464.438049</td>\n",
       "      <td>...</td>\n",
       "      <td>555.438049</td>\n",
       "      <td>568.438049</td>\n",
       "      <td>599.438049</td>\n",
       "      <td>646.438049</td>\n",
       "      <td>647.438049</td>\n",
       "      <td>649.438049</td>\n",
       "      <td>630.438049</td>\n",
       "      <td>597.438049</td>\n",
       "      <td>545.438049</td>\n",
       "      <td>500.438049</td>\n",
       "    </tr>\n",
       "    <tr>\n",
       "      <th>2162</th>\n",
       "      <td>139</td>\n",
       "      <td>12/3/2018</td>\n",
       "      <td>-0.756098</td>\n",
       "      <td>-0.884615</td>\n",
       "      <td>475.438049</td>\n",
       "      <td>474.438049</td>\n",
       "      <td>477.438049</td>\n",
       "      <td>487.438049</td>\n",
       "      <td>537.438049</td>\n",
       "      <td>608.438049</td>\n",
       "      <td>...</td>\n",
       "      <td>620.438049</td>\n",
       "      <td>633.438049</td>\n",
       "      <td>686.438049</td>\n",
       "      <td>731.438049</td>\n",
       "      <td>742.438049</td>\n",
       "      <td>737.438049</td>\n",
       "      <td>704.438049</td>\n",
       "      <td>671.438049</td>\n",
       "      <td>617.438049</td>\n",
       "      <td>567.438049</td>\n",
       "    </tr>\n",
       "    <tr>\n",
       "      <th>2163</th>\n",
       "      <td>139</td>\n",
       "      <td>12/4/2018</td>\n",
       "      <td>-0.731707</td>\n",
       "      <td>-1.230769</td>\n",
       "      <td>555.438049</td>\n",
       "      <td>547.438049</td>\n",
       "      <td>550.438049</td>\n",
       "      <td>567.438049</td>\n",
       "      <td>603.438049</td>\n",
       "      <td>671.438049</td>\n",
       "      <td>...</td>\n",
       "      <td>623.438049</td>\n",
       "      <td>643.438049</td>\n",
       "      <td>700.438049</td>\n",
       "      <td>745.438049</td>\n",
       "      <td>758.438049</td>\n",
       "      <td>751.438049</td>\n",
       "      <td>733.438049</td>\n",
       "      <td>689.438049</td>\n",
       "      <td>639.438049</td>\n",
       "      <td>597.438049</td>\n",
       "    </tr>\n",
       "    <tr>\n",
       "      <th>2164</th>\n",
       "      <td>139</td>\n",
       "      <td>12/5/2018</td>\n",
       "      <td>-0.780488</td>\n",
       "      <td>-1.346154</td>\n",
       "      <td>566.438049</td>\n",
       "      <td>568.438049</td>\n",
       "      <td>569.438049</td>\n",
       "      <td>577.438049</td>\n",
       "      <td>622.438049</td>\n",
       "      <td>677.438049</td>\n",
       "      <td>...</td>\n",
       "      <td>645.438049</td>\n",
       "      <td>663.438049</td>\n",
       "      <td>708.438049</td>\n",
       "      <td>760.438049</td>\n",
       "      <td>772.438049</td>\n",
       "      <td>758.438049</td>\n",
       "      <td>753.438049</td>\n",
       "      <td>713.438049</td>\n",
       "      <td>662.438049</td>\n",
       "      <td>621.438049</td>\n",
       "    </tr>\n",
       "    <tr>\n",
       "      <th>2165</th>\n",
       "      <td>139</td>\n",
       "      <td>12/6/2018</td>\n",
       "      <td>-0.756098</td>\n",
       "      <td>-1.576923</td>\n",
       "      <td>596.438049</td>\n",
       "      <td>587.438049</td>\n",
       "      <td>597.438049</td>\n",
       "      <td>609.438049</td>\n",
       "      <td>649.438049</td>\n",
       "      <td>715.438049</td>\n",
       "      <td>...</td>\n",
       "      <td>652.438049</td>\n",
       "      <td>659.438049</td>\n",
       "      <td>717.438049</td>\n",
       "      <td>762.438049</td>\n",
       "      <td>765.438049</td>\n",
       "      <td>774.438049</td>\n",
       "      <td>745.438049</td>\n",
       "      <td>722.438049</td>\n",
       "      <td>662.438049</td>\n",
       "      <td>619.438049</td>\n",
       "    </tr>\n",
       "    <tr>\n",
       "      <th>2166</th>\n",
       "      <td>139</td>\n",
       "      <td>12/7/2018</td>\n",
       "      <td>-0.902439</td>\n",
       "      <td>-1.615385</td>\n",
       "      <td>600.438049</td>\n",
       "      <td>597.438049</td>\n",
       "      <td>600.438049</td>\n",
       "      <td>616.438049</td>\n",
       "      <td>650.438049</td>\n",
       "      <td>721.438049</td>\n",
       "      <td>...</td>\n",
       "      <td>683.438049</td>\n",
       "      <td>702.438049</td>\n",
       "      <td>743.438049</td>\n",
       "      <td>767.438049</td>\n",
       "      <td>750.438049</td>\n",
       "      <td>726.438049</td>\n",
       "      <td>711.438049</td>\n",
       "      <td>674.438049</td>\n",
       "      <td>636.438049</td>\n",
       "      <td>592.438049</td>\n",
       "    </tr>\n",
       "    <tr>\n",
       "      <th>2167</th>\n",
       "      <td>139</td>\n",
       "      <td>12/8/2018</td>\n",
       "      <td>-0.756098</td>\n",
       "      <td>-0.923077</td>\n",
       "      <td>558.438049</td>\n",
       "      <td>548.438049</td>\n",
       "      <td>531.438049</td>\n",
       "      <td>531.438049</td>\n",
       "      <td>541.438049</td>\n",
       "      <td>562.438049</td>\n",
       "      <td>...</td>\n",
       "      <td>620.438049</td>\n",
       "      <td>622.438049</td>\n",
       "      <td>653.438049</td>\n",
       "      <td>670.438049</td>\n",
       "      <td>651.438049</td>\n",
       "      <td>642.438049</td>\n",
       "      <td>631.438049</td>\n",
       "      <td>607.438049</td>\n",
       "      <td>579.438049</td>\n",
       "      <td>546.438049</td>\n",
       "    </tr>\n",
       "    <tr>\n",
       "      <th>2168</th>\n",
       "      <td>139</td>\n",
       "      <td>12/9/2018</td>\n",
       "      <td>-0.756098</td>\n",
       "      <td>-0.653846</td>\n",
       "      <td>517.438049</td>\n",
       "      <td>498.438049</td>\n",
       "      <td>498.438049</td>\n",
       "      <td>489.438049</td>\n",
       "      <td>491.438049</td>\n",
       "      <td>516.438049</td>\n",
       "      <td>...</td>\n",
       "      <td>644.438049</td>\n",
       "      <td>647.438049</td>\n",
       "      <td>672.438049</td>\n",
       "      <td>684.438049</td>\n",
       "      <td>676.438049</td>\n",
       "      <td>657.438049</td>\n",
       "      <td>636.438049</td>\n",
       "      <td>590.438049</td>\n",
       "      <td>546.438049</td>\n",
       "      <td>493.438049</td>\n",
       "    </tr>\n",
       "    <tr>\n",
       "      <th>2169</th>\n",
       "      <td>139</td>\n",
       "      <td>12/10/2018</td>\n",
       "      <td>-0.512195</td>\n",
       "      <td>-0.461538</td>\n",
       "      <td>469.438049</td>\n",
       "      <td>454.438049</td>\n",
       "      <td>454.438049</td>\n",
       "      <td>461.438049</td>\n",
       "      <td>497.438049</td>\n",
       "      <td>558.438049</td>\n",
       "      <td>...</td>\n",
       "      <td>599.438049</td>\n",
       "      <td>620.438049</td>\n",
       "      <td>671.438049</td>\n",
       "      <td>699.438049</td>\n",
       "      <td>695.438049</td>\n",
       "      <td>686.438049</td>\n",
       "      <td>668.438049</td>\n",
       "      <td>629.438049</td>\n",
       "      <td>567.438049</td>\n",
       "      <td>522.438049</td>\n",
       "    </tr>\n",
       "    <tr>\n",
       "      <th>2170</th>\n",
       "      <td>139</td>\n",
       "      <td>12/11/2018</td>\n",
       "      <td>-0.487805</td>\n",
       "      <td>-0.384615</td>\n",
       "      <td>489.438049</td>\n",
       "      <td>480.438049</td>\n",
       "      <td>473.438049</td>\n",
       "      <td>477.438049</td>\n",
       "      <td>502.438049</td>\n",
       "      <td>564.438049</td>\n",
       "      <td>...</td>\n",
       "      <td>641.438049</td>\n",
       "      <td>666.438049</td>\n",
       "      <td>685.438049</td>\n",
       "      <td>700.438049</td>\n",
       "      <td>695.438049</td>\n",
       "      <td>679.438049</td>\n",
       "      <td>662.438049</td>\n",
       "      <td>627.438049</td>\n",
       "      <td>572.438049</td>\n",
       "      <td>526.438049</td>\n",
       "    </tr>\n",
       "    <tr>\n",
       "      <th>2171</th>\n",
       "      <td>139</td>\n",
       "      <td>12/12/2018</td>\n",
       "      <td>-0.512195</td>\n",
       "      <td>-0.500000</td>\n",
       "      <td>500.438049</td>\n",
       "      <td>487.438049</td>\n",
       "      <td>483.438049</td>\n",
       "      <td>492.438049</td>\n",
       "      <td>527.438049</td>\n",
       "      <td>586.438049</td>\n",
       "      <td>...</td>\n",
       "      <td>631.438049</td>\n",
       "      <td>645.438049</td>\n",
       "      <td>669.438049</td>\n",
       "      <td>706.438049</td>\n",
       "      <td>699.438049</td>\n",
       "      <td>688.438049</td>\n",
       "      <td>655.438049</td>\n",
       "      <td>632.438049</td>\n",
       "      <td>570.438049</td>\n",
       "      <td>527.438049</td>\n",
       "    </tr>\n",
       "    <tr>\n",
       "      <th>2172</th>\n",
       "      <td>139</td>\n",
       "      <td>12/13/2018</td>\n",
       "      <td>-0.268293</td>\n",
       "      <td>-0.269231</td>\n",
       "      <td>491.438049</td>\n",
       "      <td>479.438049</td>\n",
       "      <td>479.438049</td>\n",
       "      <td>484.438049</td>\n",
       "      <td>506.438049</td>\n",
       "      <td>560.438049</td>\n",
       "      <td>...</td>\n",
       "      <td>593.438049</td>\n",
       "      <td>606.438049</td>\n",
       "      <td>633.438049</td>\n",
       "      <td>662.438049</td>\n",
       "      <td>654.438049</td>\n",
       "      <td>645.438049</td>\n",
       "      <td>619.438049</td>\n",
       "      <td>590.438049</td>\n",
       "      <td>539.438049</td>\n",
       "      <td>495.438049</td>\n",
       "    </tr>\n",
       "    <tr>\n",
       "      <th>2173</th>\n",
       "      <td>139</td>\n",
       "      <td>12/14/2018</td>\n",
       "      <td>-0.170732</td>\n",
       "      <td>-0.423077</td>\n",
       "      <td>464.438049</td>\n",
       "      <td>446.438080</td>\n",
       "      <td>450.438080</td>\n",
       "      <td>457.438049</td>\n",
       "      <td>481.438049</td>\n",
       "      <td>534.438049</td>\n",
       "      <td>...</td>\n",
       "      <td>587.438049</td>\n",
       "      <td>586.438049</td>\n",
       "      <td>618.438049</td>\n",
       "      <td>640.438049</td>\n",
       "      <td>581.438049</td>\n",
       "      <td>582.438049</td>\n",
       "      <td>612.438049</td>\n",
       "      <td>586.438049</td>\n",
       "      <td>550.438049</td>\n",
       "      <td>526.438049</td>\n",
       "    </tr>\n",
       "    <tr>\n",
       "      <th>2174</th>\n",
       "      <td>139</td>\n",
       "      <td>12/15/2018</td>\n",
       "      <td>-0.365854</td>\n",
       "      <td>-0.500000</td>\n",
       "      <td>493.438049</td>\n",
       "      <td>477.438049</td>\n",
       "      <td>468.438049</td>\n",
       "      <td>477.438049</td>\n",
       "      <td>484.438049</td>\n",
       "      <td>507.438049</td>\n",
       "      <td>...</td>\n",
       "      <td>560.438049</td>\n",
       "      <td>584.438049</td>\n",
       "      <td>618.438049</td>\n",
       "      <td>620.438049</td>\n",
       "      <td>611.438049</td>\n",
       "      <td>592.438049</td>\n",
       "      <td>577.438049</td>\n",
       "      <td>555.438049</td>\n",
       "      <td>518.438049</td>\n",
       "      <td>489.438049</td>\n",
       "    </tr>\n",
       "    <tr>\n",
       "      <th>2175</th>\n",
       "      <td>139</td>\n",
       "      <td>12/16/2018</td>\n",
       "      <td>-0.341463</td>\n",
       "      <td>-0.307692</td>\n",
       "      <td>460.438049</td>\n",
       "      <td>445.438080</td>\n",
       "      <td>435.438080</td>\n",
       "      <td>426.438080</td>\n",
       "      <td>437.438080</td>\n",
       "      <td>454.438080</td>\n",
       "      <td>...</td>\n",
       "      <td>557.438049</td>\n",
       "      <td>560.438049</td>\n",
       "      <td>598.438049</td>\n",
       "      <td>615.438049</td>\n",
       "      <td>605.438049</td>\n",
       "      <td>594.438049</td>\n",
       "      <td>575.438049</td>\n",
       "      <td>542.438049</td>\n",
       "      <td>505.438049</td>\n",
       "      <td>460.438080</td>\n",
       "    </tr>\n",
       "    <tr>\n",
       "      <th>2176</th>\n",
       "      <td>139</td>\n",
       "      <td>12/17/2018</td>\n",
       "      <td>-0.341463</td>\n",
       "      <td>-0.269231</td>\n",
       "      <td>437.438080</td>\n",
       "      <td>423.438080</td>\n",
       "      <td>424.438080</td>\n",
       "      <td>430.438080</td>\n",
       "      <td>462.438049</td>\n",
       "      <td>519.438049</td>\n",
       "      <td>...</td>\n",
       "      <td>582.438049</td>\n",
       "      <td>611.438049</td>\n",
       "      <td>648.438049</td>\n",
       "      <td>668.438049</td>\n",
       "      <td>674.438049</td>\n",
       "      <td>650.438049</td>\n",
       "      <td>636.438049</td>\n",
       "      <td>603.438049</td>\n",
       "      <td>545.438049</td>\n",
       "      <td>509.438049</td>\n",
       "    </tr>\n",
       "    <tr>\n",
       "      <th>2177</th>\n",
       "      <td>139</td>\n",
       "      <td>12/18/2018</td>\n",
       "      <td>-0.317073</td>\n",
       "      <td>-0.153846</td>\n",
       "      <td>464.438049</td>\n",
       "      <td>453.438049</td>\n",
       "      <td>445.438080</td>\n",
       "      <td>449.438080</td>\n",
       "      <td>475.438049</td>\n",
       "      <td>523.438049</td>\n",
       "      <td>...</td>\n",
       "      <td>602.438049</td>\n",
       "      <td>623.438049</td>\n",
       "      <td>649.438049</td>\n",
       "      <td>678.438049</td>\n",
       "      <td>678.438049</td>\n",
       "      <td>663.438049</td>\n",
       "      <td>644.438049</td>\n",
       "      <td>616.438049</td>\n",
       "      <td>559.438049</td>\n",
       "      <td>518.438049</td>\n",
       "    </tr>\n",
       "    <tr>\n",
       "      <th>2178</th>\n",
       "      <td>139</td>\n",
       "      <td>12/19/2018</td>\n",
       "      <td>-0.365854</td>\n",
       "      <td>-0.192308</td>\n",
       "      <td>486.438049</td>\n",
       "      <td>475.438049</td>\n",
       "      <td>474.438049</td>\n",
       "      <td>478.438049</td>\n",
       "      <td>499.438049</td>\n",
       "      <td>553.438049</td>\n",
       "      <td>...</td>\n",
       "      <td>592.438049</td>\n",
       "      <td>602.438049</td>\n",
       "      <td>637.438049</td>\n",
       "      <td>672.438049</td>\n",
       "      <td>668.438049</td>\n",
       "      <td>651.438049</td>\n",
       "      <td>638.438049</td>\n",
       "      <td>598.438049</td>\n",
       "      <td>550.438049</td>\n",
       "      <td>506.438049</td>\n",
       "    </tr>\n",
       "    <tr>\n",
       "      <th>2179</th>\n",
       "      <td>139</td>\n",
       "      <td>12/20/2018</td>\n",
       "      <td>-0.024390</td>\n",
       "      <td>-0.384615</td>\n",
       "      <td>467.438049</td>\n",
       "      <td>456.438049</td>\n",
       "      <td>439.438080</td>\n",
       "      <td>445.438080</td>\n",
       "      <td>465.438049</td>\n",
       "      <td>510.438049</td>\n",
       "      <td>...</td>\n",
       "      <td>584.438049</td>\n",
       "      <td>593.438049</td>\n",
       "      <td>642.438049</td>\n",
       "      <td>669.438049</td>\n",
       "      <td>673.438049</td>\n",
       "      <td>668.438049</td>\n",
       "      <td>653.438049</td>\n",
       "      <td>625.438049</td>\n",
       "      <td>577.438049</td>\n",
       "      <td>546.438049</td>\n",
       "    </tr>\n",
       "    <tr>\n",
       "      <th>2180</th>\n",
       "      <td>139</td>\n",
       "      <td>12/21/2018</td>\n",
       "      <td>-0.804878</td>\n",
       "      <td>-0.923077</td>\n",
       "      <td>515.438049</td>\n",
       "      <td>500.438049</td>\n",
       "      <td>501.438049</td>\n",
       "      <td>513.438049</td>\n",
       "      <td>544.438049</td>\n",
       "      <td>597.438049</td>\n",
       "      <td>...</td>\n",
       "      <td>641.438049</td>\n",
       "      <td>632.438049</td>\n",
       "      <td>667.438049</td>\n",
       "      <td>697.438049</td>\n",
       "      <td>706.438049</td>\n",
       "      <td>702.438049</td>\n",
       "      <td>682.438049</td>\n",
       "      <td>656.438049</td>\n",
       "      <td>617.438049</td>\n",
       "      <td>578.438049</td>\n",
       "    </tr>\n",
       "    <tr>\n",
       "      <th>2181</th>\n",
       "      <td>139</td>\n",
       "      <td>12/22/2018</td>\n",
       "      <td>-0.780488</td>\n",
       "      <td>-0.807692</td>\n",
       "      <td>542.438049</td>\n",
       "      <td>523.438049</td>\n",
       "      <td>517.438049</td>\n",
       "      <td>511.438049</td>\n",
       "      <td>520.438049</td>\n",
       "      <td>541.438049</td>\n",
       "      <td>...</td>\n",
       "      <td>608.438049</td>\n",
       "      <td>619.438049</td>\n",
       "      <td>654.438049</td>\n",
       "      <td>659.438049</td>\n",
       "      <td>639.438049</td>\n",
       "      <td>632.438049</td>\n",
       "      <td>620.438049</td>\n",
       "      <td>592.438049</td>\n",
       "      <td>562.438049</td>\n",
       "      <td>523.438049</td>\n",
       "    </tr>\n",
       "    <tr>\n",
       "      <th>2182</th>\n",
       "      <td>139</td>\n",
       "      <td>12/23/2018</td>\n",
       "      <td>-0.609756</td>\n",
       "      <td>-0.461538</td>\n",
       "      <td>495.438049</td>\n",
       "      <td>480.438049</td>\n",
       "      <td>464.438049</td>\n",
       "      <td>464.438049</td>\n",
       "      <td>471.438049</td>\n",
       "      <td>486.438049</td>\n",
       "      <td>...</td>\n",
       "      <td>587.438049</td>\n",
       "      <td>587.438049</td>\n",
       "      <td>612.438049</td>\n",
       "      <td>627.438049</td>\n",
       "      <td>613.438049</td>\n",
       "      <td>600.438049</td>\n",
       "      <td>587.438049</td>\n",
       "      <td>572.438049</td>\n",
       "      <td>541.438049</td>\n",
       "      <td>507.438049</td>\n",
       "    </tr>\n",
       "    <tr>\n",
       "      <th>2183</th>\n",
       "      <td>139</td>\n",
       "      <td>12/24/2018</td>\n",
       "      <td>-0.585366</td>\n",
       "      <td>-0.538462</td>\n",
       "      <td>477.438049</td>\n",
       "      <td>466.438049</td>\n",
       "      <td>466.438049</td>\n",
       "      <td>469.438049</td>\n",
       "      <td>491.438049</td>\n",
       "      <td>521.438049</td>\n",
       "      <td>...</td>\n",
       "      <td>562.438049</td>\n",
       "      <td>570.438049</td>\n",
       "      <td>598.438049</td>\n",
       "      <td>612.438049</td>\n",
       "      <td>598.438049</td>\n",
       "      <td>587.438049</td>\n",
       "      <td>567.438049</td>\n",
       "      <td>555.438049</td>\n",
       "      <td>528.438049</td>\n",
       "      <td>504.438049</td>\n",
       "    </tr>\n",
       "    <tr>\n",
       "      <th>2184</th>\n",
       "      <td>139</td>\n",
       "      <td>12/25/2018</td>\n",
       "      <td>-0.731707</td>\n",
       "      <td>-0.730769</td>\n",
       "      <td>479.438049</td>\n",
       "      <td>467.438049</td>\n",
       "      <td>471.438049</td>\n",
       "      <td>470.438049</td>\n",
       "      <td>484.438049</td>\n",
       "      <td>508.438049</td>\n",
       "      <td>...</td>\n",
       "      <td>569.438049</td>\n",
       "      <td>575.438049</td>\n",
       "      <td>585.438049</td>\n",
       "      <td>593.438049</td>\n",
       "      <td>584.438049</td>\n",
       "      <td>572.438049</td>\n",
       "      <td>574.438049</td>\n",
       "      <td>556.438049</td>\n",
       "      <td>534.438049</td>\n",
       "      <td>494.438049</td>\n",
       "    </tr>\n",
       "    <tr>\n",
       "      <th>2185</th>\n",
       "      <td>139</td>\n",
       "      <td>12/26/2018</td>\n",
       "      <td>-0.756098</td>\n",
       "      <td>-0.653846</td>\n",
       "      <td>478.438049</td>\n",
       "      <td>472.438049</td>\n",
       "      <td>467.438049</td>\n",
       "      <td>477.438049</td>\n",
       "      <td>499.438049</td>\n",
       "      <td>544.438049</td>\n",
       "      <td>...</td>\n",
       "      <td>661.438049</td>\n",
       "      <td>687.438049</td>\n",
       "      <td>702.438049</td>\n",
       "      <td>720.438049</td>\n",
       "      <td>703.438049</td>\n",
       "      <td>681.438049</td>\n",
       "      <td>654.438049</td>\n",
       "      <td>619.438049</td>\n",
       "      <td>570.438049</td>\n",
       "      <td>534.438049</td>\n",
       "    </tr>\n",
       "    <tr>\n",
       "      <th>2186</th>\n",
       "      <td>139</td>\n",
       "      <td>12/27/2018</td>\n",
       "      <td>-0.780488</td>\n",
       "      <td>-0.692308</td>\n",
       "      <td>497.438049</td>\n",
       "      <td>489.438049</td>\n",
       "      <td>483.438049</td>\n",
       "      <td>484.438049</td>\n",
       "      <td>506.438049</td>\n",
       "      <td>547.438049</td>\n",
       "      <td>...</td>\n",
       "      <td>631.438049</td>\n",
       "      <td>644.438049</td>\n",
       "      <td>667.438049</td>\n",
       "      <td>701.438049</td>\n",
       "      <td>696.438049</td>\n",
       "      <td>677.438049</td>\n",
       "      <td>662.438049</td>\n",
       "      <td>621.438049</td>\n",
       "      <td>574.438049</td>\n",
       "      <td>540.438049</td>\n",
       "    </tr>\n",
       "    <tr>\n",
       "      <th>2187</th>\n",
       "      <td>139</td>\n",
       "      <td>12/28/2018</td>\n",
       "      <td>-0.585366</td>\n",
       "      <td>-0.615385</td>\n",
       "      <td>509.438049</td>\n",
       "      <td>496.438049</td>\n",
       "      <td>487.438049</td>\n",
       "      <td>490.438049</td>\n",
       "      <td>517.438049</td>\n",
       "      <td>564.438049</td>\n",
       "      <td>...</td>\n",
       "      <td>665.438049</td>\n",
       "      <td>661.438049</td>\n",
       "      <td>690.438049</td>\n",
       "      <td>691.438049</td>\n",
       "      <td>674.438049</td>\n",
       "      <td>657.438049</td>\n",
       "      <td>625.438049</td>\n",
       "      <td>598.438049</td>\n",
       "      <td>557.438049</td>\n",
       "      <td>511.438049</td>\n",
       "    </tr>\n",
       "    <tr>\n",
       "      <th>2188</th>\n",
       "      <td>139</td>\n",
       "      <td>12/29/2018</td>\n",
       "      <td>-0.390244</td>\n",
       "      <td>-0.153846</td>\n",
       "      <td>490.438049</td>\n",
       "      <td>460.438049</td>\n",
       "      <td>446.438080</td>\n",
       "      <td>444.438080</td>\n",
       "      <td>450.438080</td>\n",
       "      <td>469.438049</td>\n",
       "      <td>...</td>\n",
       "      <td>578.438049</td>\n",
       "      <td>587.438049</td>\n",
       "      <td>605.438049</td>\n",
       "      <td>619.438049</td>\n",
       "      <td>613.438049</td>\n",
       "      <td>593.438049</td>\n",
       "      <td>582.438049</td>\n",
       "      <td>549.438049</td>\n",
       "      <td>526.438049</td>\n",
       "      <td>496.438049</td>\n",
       "    </tr>\n",
       "    <tr>\n",
       "      <th>2189</th>\n",
       "      <td>139</td>\n",
       "      <td>12/30/2018</td>\n",
       "      <td>-0.560976</td>\n",
       "      <td>-0.653846</td>\n",
       "      <td>469.438049</td>\n",
       "      <td>461.438049</td>\n",
       "      <td>452.438080</td>\n",
       "      <td>457.438049</td>\n",
       "      <td>466.438049</td>\n",
       "      <td>483.438049</td>\n",
       "      <td>...</td>\n",
       "      <td>534.438049</td>\n",
       "      <td>545.438049</td>\n",
       "      <td>588.438049</td>\n",
       "      <td>632.438049</td>\n",
       "      <td>610.438049</td>\n",
       "      <td>636.438049</td>\n",
       "      <td>618.438049</td>\n",
       "      <td>601.438049</td>\n",
       "      <td>561.438049</td>\n",
       "      <td>530.438049</td>\n",
       "    </tr>\n",
       "    <tr>\n",
       "      <th>2190</th>\n",
       "      <td>139</td>\n",
       "      <td>12/31/2018</td>\n",
       "      <td>-0.829268</td>\n",
       "      <td>-1.076923</td>\n",
       "      <td>503.438049</td>\n",
       "      <td>492.438049</td>\n",
       "      <td>495.438049</td>\n",
       "      <td>506.438049</td>\n",
       "      <td>530.438049</td>\n",
       "      <td>584.438049</td>\n",
       "      <td>...</td>\n",
       "      <td>621.438049</td>\n",
       "      <td>625.438049</td>\n",
       "      <td>670.438049</td>\n",
       "      <td>712.438049</td>\n",
       "      <td>708.438049</td>\n",
       "      <td>685.438049</td>\n",
       "      <td>660.438049</td>\n",
       "      <td>630.438049</td>\n",
       "      <td>605.438049</td>\n",
       "      <td>585.438049</td>\n",
       "    </tr>\n",
       "  </tbody>\n",
       "</table>\n",
       "<p>2191 rows × 28 columns</p>\n",
       "</div>"
      ],
      "text/plain": [
       "      respondent_id   plan_date  HIGH_AVG   LOW_AVG      hour01      hour02  \\\n",
       "0               139    1/1/2013 -0.902439 -1.500000  580.961914  576.961914   \n",
       "1               139    1/2/2013 -0.902439 -1.423077  571.961914  570.961914   \n",
       "2               139    1/3/2013 -0.878049 -1.538462  618.961914  612.961914   \n",
       "3               139    1/4/2013 -0.463415 -0.807692  560.961914  538.961914   \n",
       "4               139    1/5/2013 -0.634146 -0.538462  507.961914  493.961914   \n",
       "5               139    1/6/2013 -0.634146 -0.653846  512.961914  495.961914   \n",
       "6               139    1/7/2013 -0.463415 -0.461538  489.961914  472.961914   \n",
       "7               139    1/8/2013 -0.341463 -0.384615  496.961914  473.961914   \n",
       "8               139    1/9/2013 -0.365854 -0.769231  466.961914  451.961883   \n",
       "9               139   1/10/2013 -0.609756 -1.000000  568.961914  557.961914   \n",
       "10              139   1/11/2013 -1.024390 -1.384615  569.961914  555.961914   \n",
       "11              139   1/12/2013 -1.097561 -1.615385  629.961914  621.961914   \n",
       "12              139   1/13/2013 -1.146341 -1.615385  641.961914  632.961914   \n",
       "13              139   1/14/2013 -1.121951 -1.615385  629.961914  623.961914   \n",
       "14              139   1/15/2013 -0.829268 -1.192308  591.961914  592.961914   \n",
       "15              139   1/16/2013 -0.878049 -1.461538  610.961914  607.961914   \n",
       "16              139   1/17/2013 -1.024390 -1.346154  614.961914  616.961914   \n",
       "17              139   1/18/2013 -1.048780 -1.269231  598.961914  582.961914   \n",
       "18              139   1/19/2013 -1.000000 -1.076923  570.961914  562.961914   \n",
       "19              139   1/20/2013 -1.048780 -1.076923  575.961914  563.961914   \n",
       "20              139   1/21/2013 -1.097561 -1.076923  562.961914  542.961914   \n",
       "21              139   1/22/2013 -1.024390 -1.307692  583.961914  572.961914   \n",
       "22              139   1/23/2013 -0.853659 -0.807692  563.961914  554.961914   \n",
       "23              139   1/24/2013 -0.707317 -0.846154  542.961914  537.961914   \n",
       "24              139   1/25/2013 -0.365854 -0.538462  515.961914  497.961914   \n",
       "25              139   1/26/2013 -0.487805 -0.692308  521.961914  518.961914   \n",
       "26              139   1/27/2013 -0.780488 -0.500000  512.961914  495.961914   \n",
       "27              139   1/28/2013 -0.780488 -0.615385  522.961914  496.961914   \n",
       "28              139   1/29/2013 -0.512195 -0.346154  510.961914  491.961914   \n",
       "29              139   1/30/2013 -0.512195 -0.153846  493.961914  478.961914   \n",
       "...             ...         ...       ...       ...         ...         ...   \n",
       "2161            139   12/2/2018 -0.682927 -0.653846  455.438049  445.438080   \n",
       "2162            139   12/3/2018 -0.756098 -0.884615  475.438049  474.438049   \n",
       "2163            139   12/4/2018 -0.731707 -1.230769  555.438049  547.438049   \n",
       "2164            139   12/5/2018 -0.780488 -1.346154  566.438049  568.438049   \n",
       "2165            139   12/6/2018 -0.756098 -1.576923  596.438049  587.438049   \n",
       "2166            139   12/7/2018 -0.902439 -1.615385  600.438049  597.438049   \n",
       "2167            139   12/8/2018 -0.756098 -0.923077  558.438049  548.438049   \n",
       "2168            139   12/9/2018 -0.756098 -0.653846  517.438049  498.438049   \n",
       "2169            139  12/10/2018 -0.512195 -0.461538  469.438049  454.438049   \n",
       "2170            139  12/11/2018 -0.487805 -0.384615  489.438049  480.438049   \n",
       "2171            139  12/12/2018 -0.512195 -0.500000  500.438049  487.438049   \n",
       "2172            139  12/13/2018 -0.268293 -0.269231  491.438049  479.438049   \n",
       "2173            139  12/14/2018 -0.170732 -0.423077  464.438049  446.438080   \n",
       "2174            139  12/15/2018 -0.365854 -0.500000  493.438049  477.438049   \n",
       "2175            139  12/16/2018 -0.341463 -0.307692  460.438049  445.438080   \n",
       "2176            139  12/17/2018 -0.341463 -0.269231  437.438080  423.438080   \n",
       "2177            139  12/18/2018 -0.317073 -0.153846  464.438049  453.438049   \n",
       "2178            139  12/19/2018 -0.365854 -0.192308  486.438049  475.438049   \n",
       "2179            139  12/20/2018 -0.024390 -0.384615  467.438049  456.438049   \n",
       "2180            139  12/21/2018 -0.804878 -0.923077  515.438049  500.438049   \n",
       "2181            139  12/22/2018 -0.780488 -0.807692  542.438049  523.438049   \n",
       "2182            139  12/23/2018 -0.609756 -0.461538  495.438049  480.438049   \n",
       "2183            139  12/24/2018 -0.585366 -0.538462  477.438049  466.438049   \n",
       "2184            139  12/25/2018 -0.731707 -0.730769  479.438049  467.438049   \n",
       "2185            139  12/26/2018 -0.756098 -0.653846  478.438049  472.438049   \n",
       "2186            139  12/27/2018 -0.780488 -0.692308  497.438049  489.438049   \n",
       "2187            139  12/28/2018 -0.585366 -0.615385  509.438049  496.438049   \n",
       "2188            139  12/29/2018 -0.390244 -0.153846  490.438049  460.438049   \n",
       "2189            139  12/30/2018 -0.560976 -0.653846  469.438049  461.438049   \n",
       "2190            139  12/31/2018 -0.829268 -1.076923  503.438049  492.438049   \n",
       "\n",
       "          hour03      hour04      hour05      hour06  ...      hour15  \\\n",
       "0     569.961914  571.961914  595.961914  616.961914  ...  642.961914   \n",
       "1     561.961914  588.961914  616.961914  683.961914  ...  701.961914   \n",
       "2     611.961914  627.961914  661.961914  729.961914  ...  712.961914   \n",
       "3     533.961914  533.961914  561.961914  616.961914  ...  616.961914   \n",
       "4     479.961914  477.961914  480.961914  518.961914  ...  626.961914   \n",
       "5     485.961914  491.961914  496.961914  513.961914  ...  603.961914   \n",
       "6     470.961914  479.961914  507.961914  577.961914  ...  643.961914   \n",
       "7     472.961914  482.961914  505.961914  567.961914  ...  641.961914   \n",
       "8     448.961883  454.961914  492.961914  561.961914  ...  693.961914   \n",
       "9     556.961914  566.961914  597.961914  673.961914  ...  713.961914   \n",
       "10    564.961914  577.961914  617.961914  694.961914  ...  681.961914   \n",
       "11    622.961914  632.961914  645.961914  674.961914  ...  671.961914   \n",
       "12    635.961914  635.961914  661.961914  683.961914  ...  706.961914   \n",
       "13    632.961914  650.961914  675.961914  757.961914  ...  740.961914   \n",
       "14    584.961914  594.961914  631.961914  695.961914  ...  657.961914   \n",
       "15    608.961914  625.961914  671.961914  740.961914  ...  705.961914   \n",
       "16    612.961914  631.961914  671.961914  743.961914  ...  726.961914   \n",
       "17    589.961914  598.961914  635.961914  707.961914  ...  719.961914   \n",
       "18    554.961914  567.961914  569.961914  600.961914  ...  701.961914   \n",
       "19    552.961914  557.961914  565.961914  591.961914  ...  691.961914   \n",
       "20    545.961914  552.961914  582.961914  625.961914  ...  755.961914   \n",
       "21    575.961914  590.961914  620.961914  690.961914  ...  730.961914   \n",
       "22    543.961914  547.961914  586.961914  649.961914  ...  719.961914   \n",
       "23    531.961914  550.961914  577.961914  649.961914  ...  681.961914   \n",
       "24    491.961914  497.961914  518.961914  586.961914  ...  592.961914   \n",
       "25    507.961914  507.961914  516.961914  546.961914  ...  582.961914   \n",
       "26    482.961914  489.961914  492.961914  516.961914  ...  649.961914   \n",
       "27    502.961914  506.961914  536.961914  603.961914  ...  710.961914   \n",
       "28    486.961914  491.961914  521.961914  579.961914  ...  648.961914   \n",
       "29    463.961914  470.961914  507.961914  561.961914  ...  639.961914   \n",
       "...          ...         ...         ...         ...  ...         ...   \n",
       "2161  435.438080  443.438080  442.438080  464.438049  ...  555.438049   \n",
       "2162  477.438049  487.438049  537.438049  608.438049  ...  620.438049   \n",
       "2163  550.438049  567.438049  603.438049  671.438049  ...  623.438049   \n",
       "2164  569.438049  577.438049  622.438049  677.438049  ...  645.438049   \n",
       "2165  597.438049  609.438049  649.438049  715.438049  ...  652.438049   \n",
       "2166  600.438049  616.438049  650.438049  721.438049  ...  683.438049   \n",
       "2167  531.438049  531.438049  541.438049  562.438049  ...  620.438049   \n",
       "2168  498.438049  489.438049  491.438049  516.438049  ...  644.438049   \n",
       "2169  454.438049  461.438049  497.438049  558.438049  ...  599.438049   \n",
       "2170  473.438049  477.438049  502.438049  564.438049  ...  641.438049   \n",
       "2171  483.438049  492.438049  527.438049  586.438049  ...  631.438049   \n",
       "2172  479.438049  484.438049  506.438049  560.438049  ...  593.438049   \n",
       "2173  450.438080  457.438049  481.438049  534.438049  ...  587.438049   \n",
       "2174  468.438049  477.438049  484.438049  507.438049  ...  560.438049   \n",
       "2175  435.438080  426.438080  437.438080  454.438080  ...  557.438049   \n",
       "2176  424.438080  430.438080  462.438049  519.438049  ...  582.438049   \n",
       "2177  445.438080  449.438080  475.438049  523.438049  ...  602.438049   \n",
       "2178  474.438049  478.438049  499.438049  553.438049  ...  592.438049   \n",
       "2179  439.438080  445.438080  465.438049  510.438049  ...  584.438049   \n",
       "2180  501.438049  513.438049  544.438049  597.438049  ...  641.438049   \n",
       "2181  517.438049  511.438049  520.438049  541.438049  ...  608.438049   \n",
       "2182  464.438049  464.438049  471.438049  486.438049  ...  587.438049   \n",
       "2183  466.438049  469.438049  491.438049  521.438049  ...  562.438049   \n",
       "2184  471.438049  470.438049  484.438049  508.438049  ...  569.438049   \n",
       "2185  467.438049  477.438049  499.438049  544.438049  ...  661.438049   \n",
       "2186  483.438049  484.438049  506.438049  547.438049  ...  631.438049   \n",
       "2187  487.438049  490.438049  517.438049  564.438049  ...  665.438049   \n",
       "2188  446.438080  444.438080  450.438080  469.438049  ...  578.438049   \n",
       "2189  452.438080  457.438049  466.438049  483.438049  ...  534.438049   \n",
       "2190  495.438049  506.438049  530.438049  584.438049  ...  621.438049   \n",
       "\n",
       "          hour16      hour17      hour18      hour19      hour20      hour21  \\\n",
       "0     647.961914  697.961914  746.961914  747.961914  738.961914  720.961914   \n",
       "1     701.961914  750.961914  803.961914  819.961914  816.961914  791.961914   \n",
       "2     748.961914  778.961914  812.961914  803.961914  785.961914  759.961914   \n",
       "3     616.961914  653.961914  700.961914  688.961914  682.961914  654.961914   \n",
       "4     624.961914  644.961914  684.961914  672.961914  658.961914  641.961914   \n",
       "5     604.961914  636.961914  681.961914  680.961914  660.961914  645.961914   \n",
       "6     649.961914  684.961914  725.961914  726.961914  709.961914  679.961914   \n",
       "7     653.961914  681.961914  705.961914  705.961914  683.961914  656.961914   \n",
       "8     695.961914  725.961914  780.961914  782.961914  774.961914  746.961914   \n",
       "9     721.961914  752.961914  792.961914  786.961914  776.961914  754.961914   \n",
       "10    687.961914  735.961914  796.961914  812.961914  786.961914  776.961914   \n",
       "11    673.961914  708.961914  769.961914  779.961914  773.961914  754.961914   \n",
       "12    713.961914  741.961914  798.961914  812.961914  810.961914  799.961914   \n",
       "13    766.961914  785.961914  839.961914  846.961914  823.961914  795.961914   \n",
       "14    667.961914  703.961914  774.961914  795.961914  788.961914  774.961914   \n",
       "15    700.961914  731.961914  805.961914  818.961914  815.961914  793.961914   \n",
       "16    733.961914  764.961914  821.961914  814.961914  802.961914  781.961914   \n",
       "17    727.961914  754.961914  786.961914  783.961914  761.961914  740.961914   \n",
       "18    700.961914  719.961914  754.961914  751.961914  736.961914  718.961914   \n",
       "19    689.961914  701.961914  750.961914  748.961914  736.961914  711.961914   \n",
       "20    755.961914  774.961914  815.961914  816.961914  800.961914  773.961914   \n",
       "21    729.961914  765.961914  808.961914  813.961914  786.961914  776.961914   \n",
       "22    730.961914  748.961914  787.961914  785.961914  765.961914  733.961914   \n",
       "23    685.961914  720.961914  752.961914  756.961914  736.961914  715.961914   \n",
       "24    581.961914  604.961914  655.961914  675.961914  656.961914  646.961914   \n",
       "25    578.961914  608.961914  665.961914  666.961914  661.961914  642.961914   \n",
       "26    665.961914  680.961914  725.961914  725.961914  709.961914  694.961914   \n",
       "27    708.961914  731.961914  755.961914  759.961914  743.961914  705.961914   \n",
       "28    656.961914  685.961914  715.961914  715.961914  703.961914  683.961914   \n",
       "29    643.961914  654.961914  626.961914  684.961914  677.961914  661.961914   \n",
       "...          ...         ...         ...         ...         ...         ...   \n",
       "2161  568.438049  599.438049  646.438049  647.438049  649.438049  630.438049   \n",
       "2162  633.438049  686.438049  731.438049  742.438049  737.438049  704.438049   \n",
       "2163  643.438049  700.438049  745.438049  758.438049  751.438049  733.438049   \n",
       "2164  663.438049  708.438049  760.438049  772.438049  758.438049  753.438049   \n",
       "2165  659.438049  717.438049  762.438049  765.438049  774.438049  745.438049   \n",
       "2166  702.438049  743.438049  767.438049  750.438049  726.438049  711.438049   \n",
       "2167  622.438049  653.438049  670.438049  651.438049  642.438049  631.438049   \n",
       "2168  647.438049  672.438049  684.438049  676.438049  657.438049  636.438049   \n",
       "2169  620.438049  671.438049  699.438049  695.438049  686.438049  668.438049   \n",
       "2170  666.438049  685.438049  700.438049  695.438049  679.438049  662.438049   \n",
       "2171  645.438049  669.438049  706.438049  699.438049  688.438049  655.438049   \n",
       "2172  606.438049  633.438049  662.438049  654.438049  645.438049  619.438049   \n",
       "2173  586.438049  618.438049  640.438049  581.438049  582.438049  612.438049   \n",
       "2174  584.438049  618.438049  620.438049  611.438049  592.438049  577.438049   \n",
       "2175  560.438049  598.438049  615.438049  605.438049  594.438049  575.438049   \n",
       "2176  611.438049  648.438049  668.438049  674.438049  650.438049  636.438049   \n",
       "2177  623.438049  649.438049  678.438049  678.438049  663.438049  644.438049   \n",
       "2178  602.438049  637.438049  672.438049  668.438049  651.438049  638.438049   \n",
       "2179  593.438049  642.438049  669.438049  673.438049  668.438049  653.438049   \n",
       "2180  632.438049  667.438049  697.438049  706.438049  702.438049  682.438049   \n",
       "2181  619.438049  654.438049  659.438049  639.438049  632.438049  620.438049   \n",
       "2182  587.438049  612.438049  627.438049  613.438049  600.438049  587.438049   \n",
       "2183  570.438049  598.438049  612.438049  598.438049  587.438049  567.438049   \n",
       "2184  575.438049  585.438049  593.438049  584.438049  572.438049  574.438049   \n",
       "2185  687.438049  702.438049  720.438049  703.438049  681.438049  654.438049   \n",
       "2186  644.438049  667.438049  701.438049  696.438049  677.438049  662.438049   \n",
       "2187  661.438049  690.438049  691.438049  674.438049  657.438049  625.438049   \n",
       "2188  587.438049  605.438049  619.438049  613.438049  593.438049  582.438049   \n",
       "2189  545.438049  588.438049  632.438049  610.438049  636.438049  618.438049   \n",
       "2190  625.438049  670.438049  712.438049  708.438049  685.438049  660.438049   \n",
       "\n",
       "          hour22      hour23      hour24  \n",
       "0     690.961914  642.961914  596.961914  \n",
       "1     755.961914  694.961914  653.961914  \n",
       "2     716.961914  649.961914  585.961914  \n",
       "3     634.961914  583.961914  547.961914  \n",
       "4     612.961914  574.961914  531.961914  \n",
       "5     611.961914  566.961914  517.961914  \n",
       "6     636.961914  577.961914  520.961914  \n",
       "7     613.961914  556.961914  496.961914  \n",
       "8     716.961914  656.961914  604.961914  \n",
       "9     707.961914  649.961914  595.961914  \n",
       "10    737.961914  700.961914  661.961914  \n",
       "11    741.961914  693.961914  658.961914  \n",
       "12    758.961914  699.961914  647.961914  \n",
       "13    746.961914  686.961914  623.961914  \n",
       "14    739.961914  685.961914  626.961914  \n",
       "15    752.961914  701.961914  646.961914  \n",
       "16    741.961914  679.961914  621.961914  \n",
       "17    703.961914  653.961914  605.961914  \n",
       "18    687.961914  644.961914  607.961914  \n",
       "19    676.961914  631.961914  586.961914  \n",
       "20    735.961914  670.961914  618.961914  \n",
       "21    718.961914  649.961914  592.961914  \n",
       "22    693.961914  628.961914  572.961914  \n",
       "23    661.961914  607.961914  555.961914  \n",
       "24    618.961914  589.961914  551.961914  \n",
       "25    617.961914  576.961914  539.961914  \n",
       "26    646.961914  600.961914  548.961914  \n",
       "27    655.961914  595.961914  543.961914  \n",
       "28    633.961914  577.961914  528.961914  \n",
       "29    619.961914  564.961914  507.961914  \n",
       "...          ...         ...         ...  \n",
       "2161  597.438049  545.438049  500.438049  \n",
       "2162  671.438049  617.438049  567.438049  \n",
       "2163  689.438049  639.438049  597.438049  \n",
       "2164  713.438049  662.438049  621.438049  \n",
       "2165  722.438049  662.438049  619.438049  \n",
       "2166  674.438049  636.438049  592.438049  \n",
       "2167  607.438049  579.438049  546.438049  \n",
       "2168  590.438049  546.438049  493.438049  \n",
       "2169  629.438049  567.438049  522.438049  \n",
       "2170  627.438049  572.438049  526.438049  \n",
       "2171  632.438049  570.438049  527.438049  \n",
       "2172  590.438049  539.438049  495.438049  \n",
       "2173  586.438049  550.438049  526.438049  \n",
       "2174  555.438049  518.438049  489.438049  \n",
       "2175  542.438049  505.438049  460.438080  \n",
       "2176  603.438049  545.438049  509.438049  \n",
       "2177  616.438049  559.438049  518.438049  \n",
       "2178  598.438049  550.438049  506.438049  \n",
       "2179  625.438049  577.438049  546.438049  \n",
       "2180  656.438049  617.438049  578.438049  \n",
       "2181  592.438049  562.438049  523.438049  \n",
       "2182  572.438049  541.438049  507.438049  \n",
       "2183  555.438049  528.438049  504.438049  \n",
       "2184  556.438049  534.438049  494.438049  \n",
       "2185  619.438049  570.438049  534.438049  \n",
       "2186  621.438049  574.438049  540.438049  \n",
       "2187  598.438049  557.438049  511.438049  \n",
       "2188  549.438049  526.438049  496.438049  \n",
       "2189  601.438049  561.438049  530.438049  \n",
       "2190  630.438049  605.438049  585.438049  \n",
       "\n",
       "[2191 rows x 28 columns]"
      ]
     },
     "execution_count": 107,
     "metadata": {},
     "output_type": "execute_result"
    }
   ],
   "source": [
    "data"
   ]
  },
  {
   "cell_type": "code",
   "execution_count": 115,
   "metadata": {},
   "outputs": [
    {
     "data": {
      "application/vnd.plotly.v1+json": {
       "config": {
        "plotlyServerURL": "https://plot.ly"
       },
       "data": [
        {
         "type": "bar",
         "y": [
          2,
          3,
          1
         ]
        }
       ],
       "layout": {
        "template": {
         "data": {
          "bar": [
           {
            "error_x": {
             "color": "#2a3f5f"
            },
            "error_y": {
             "color": "#2a3f5f"
            },
            "marker": {
             "line": {
              "color": "#E5ECF6",
              "width": 0.5
             }
            },
            "type": "bar"
           }
          ],
          "barpolar": [
           {
            "marker": {
             "line": {
              "color": "#E5ECF6",
              "width": 0.5
             }
            },
            "type": "barpolar"
           }
          ],
          "carpet": [
           {
            "aaxis": {
             "endlinecolor": "#2a3f5f",
             "gridcolor": "white",
             "linecolor": "white",
             "minorgridcolor": "white",
             "startlinecolor": "#2a3f5f"
            },
            "baxis": {
             "endlinecolor": "#2a3f5f",
             "gridcolor": "white",
             "linecolor": "white",
             "minorgridcolor": "white",
             "startlinecolor": "#2a3f5f"
            },
            "type": "carpet"
           }
          ],
          "choropleth": [
           {
            "colorbar": {
             "outlinewidth": 0,
             "ticks": ""
            },
            "type": "choropleth"
           }
          ],
          "contour": [
           {
            "colorbar": {
             "outlinewidth": 0,
             "ticks": ""
            },
            "colorscale": [
             [
              0,
              "#0d0887"
             ],
             [
              0.1111111111111111,
              "#46039f"
             ],
             [
              0.2222222222222222,
              "#7201a8"
             ],
             [
              0.3333333333333333,
              "#9c179e"
             ],
             [
              0.4444444444444444,
              "#bd3786"
             ],
             [
              0.5555555555555556,
              "#d8576b"
             ],
             [
              0.6666666666666666,
              "#ed7953"
             ],
             [
              0.7777777777777778,
              "#fb9f3a"
             ],
             [
              0.8888888888888888,
              "#fdca26"
             ],
             [
              1,
              "#f0f921"
             ]
            ],
            "type": "contour"
           }
          ],
          "contourcarpet": [
           {
            "colorbar": {
             "outlinewidth": 0,
             "ticks": ""
            },
            "type": "contourcarpet"
           }
          ],
          "heatmap": [
           {
            "colorbar": {
             "outlinewidth": 0,
             "ticks": ""
            },
            "colorscale": [
             [
              0,
              "#0d0887"
             ],
             [
              0.1111111111111111,
              "#46039f"
             ],
             [
              0.2222222222222222,
              "#7201a8"
             ],
             [
              0.3333333333333333,
              "#9c179e"
             ],
             [
              0.4444444444444444,
              "#bd3786"
             ],
             [
              0.5555555555555556,
              "#d8576b"
             ],
             [
              0.6666666666666666,
              "#ed7953"
             ],
             [
              0.7777777777777778,
              "#fb9f3a"
             ],
             [
              0.8888888888888888,
              "#fdca26"
             ],
             [
              1,
              "#f0f921"
             ]
            ],
            "type": "heatmap"
           }
          ],
          "heatmapgl": [
           {
            "colorbar": {
             "outlinewidth": 0,
             "ticks": ""
            },
            "colorscale": [
             [
              0,
              "#0d0887"
             ],
             [
              0.1111111111111111,
              "#46039f"
             ],
             [
              0.2222222222222222,
              "#7201a8"
             ],
             [
              0.3333333333333333,
              "#9c179e"
             ],
             [
              0.4444444444444444,
              "#bd3786"
             ],
             [
              0.5555555555555556,
              "#d8576b"
             ],
             [
              0.6666666666666666,
              "#ed7953"
             ],
             [
              0.7777777777777778,
              "#fb9f3a"
             ],
             [
              0.8888888888888888,
              "#fdca26"
             ],
             [
              1,
              "#f0f921"
             ]
            ],
            "type": "heatmapgl"
           }
          ],
          "histogram": [
           {
            "marker": {
             "colorbar": {
              "outlinewidth": 0,
              "ticks": ""
             }
            },
            "type": "histogram"
           }
          ],
          "histogram2d": [
           {
            "colorbar": {
             "outlinewidth": 0,
             "ticks": ""
            },
            "colorscale": [
             [
              0,
              "#0d0887"
             ],
             [
              0.1111111111111111,
              "#46039f"
             ],
             [
              0.2222222222222222,
              "#7201a8"
             ],
             [
              0.3333333333333333,
              "#9c179e"
             ],
             [
              0.4444444444444444,
              "#bd3786"
             ],
             [
              0.5555555555555556,
              "#d8576b"
             ],
             [
              0.6666666666666666,
              "#ed7953"
             ],
             [
              0.7777777777777778,
              "#fb9f3a"
             ],
             [
              0.8888888888888888,
              "#fdca26"
             ],
             [
              1,
              "#f0f921"
             ]
            ],
            "type": "histogram2d"
           }
          ],
          "histogram2dcontour": [
           {
            "colorbar": {
             "outlinewidth": 0,
             "ticks": ""
            },
            "colorscale": [
             [
              0,
              "#0d0887"
             ],
             [
              0.1111111111111111,
              "#46039f"
             ],
             [
              0.2222222222222222,
              "#7201a8"
             ],
             [
              0.3333333333333333,
              "#9c179e"
             ],
             [
              0.4444444444444444,
              "#bd3786"
             ],
             [
              0.5555555555555556,
              "#d8576b"
             ],
             [
              0.6666666666666666,
              "#ed7953"
             ],
             [
              0.7777777777777778,
              "#fb9f3a"
             ],
             [
              0.8888888888888888,
              "#fdca26"
             ],
             [
              1,
              "#f0f921"
             ]
            ],
            "type": "histogram2dcontour"
           }
          ],
          "mesh3d": [
           {
            "colorbar": {
             "outlinewidth": 0,
             "ticks": ""
            },
            "type": "mesh3d"
           }
          ],
          "parcoords": [
           {
            "line": {
             "colorbar": {
              "outlinewidth": 0,
              "ticks": ""
             }
            },
            "type": "parcoords"
           }
          ],
          "scatter": [
           {
            "marker": {
             "colorbar": {
              "outlinewidth": 0,
              "ticks": ""
             }
            },
            "type": "scatter"
           }
          ],
          "scatter3d": [
           {
            "line": {
             "colorbar": {
              "outlinewidth": 0,
              "ticks": ""
             }
            },
            "marker": {
             "colorbar": {
              "outlinewidth": 0,
              "ticks": ""
             }
            },
            "type": "scatter3d"
           }
          ],
          "scattercarpet": [
           {
            "marker": {
             "colorbar": {
              "outlinewidth": 0,
              "ticks": ""
             }
            },
            "type": "scattercarpet"
           }
          ],
          "scattergeo": [
           {
            "marker": {
             "colorbar": {
              "outlinewidth": 0,
              "ticks": ""
             }
            },
            "type": "scattergeo"
           }
          ],
          "scattergl": [
           {
            "marker": {
             "colorbar": {
              "outlinewidth": 0,
              "ticks": ""
             }
            },
            "type": "scattergl"
           }
          ],
          "scattermapbox": [
           {
            "marker": {
             "colorbar": {
              "outlinewidth": 0,
              "ticks": ""
             }
            },
            "type": "scattermapbox"
           }
          ],
          "scatterpolar": [
           {
            "marker": {
             "colorbar": {
              "outlinewidth": 0,
              "ticks": ""
             }
            },
            "type": "scatterpolar"
           }
          ],
          "scatterpolargl": [
           {
            "marker": {
             "colorbar": {
              "outlinewidth": 0,
              "ticks": ""
             }
            },
            "type": "scatterpolargl"
           }
          ],
          "scatterternary": [
           {
            "marker": {
             "colorbar": {
              "outlinewidth": 0,
              "ticks": ""
             }
            },
            "type": "scatterternary"
           }
          ],
          "surface": [
           {
            "colorbar": {
             "outlinewidth": 0,
             "ticks": ""
            },
            "colorscale": [
             [
              0,
              "#0d0887"
             ],
             [
              0.1111111111111111,
              "#46039f"
             ],
             [
              0.2222222222222222,
              "#7201a8"
             ],
             [
              0.3333333333333333,
              "#9c179e"
             ],
             [
              0.4444444444444444,
              "#bd3786"
             ],
             [
              0.5555555555555556,
              "#d8576b"
             ],
             [
              0.6666666666666666,
              "#ed7953"
             ],
             [
              0.7777777777777778,
              "#fb9f3a"
             ],
             [
              0.8888888888888888,
              "#fdca26"
             ],
             [
              1,
              "#f0f921"
             ]
            ],
            "type": "surface"
           }
          ],
          "table": [
           {
            "cells": {
             "fill": {
              "color": "#EBF0F8"
             },
             "line": {
              "color": "white"
             }
            },
            "header": {
             "fill": {
              "color": "#C8D4E3"
             },
             "line": {
              "color": "white"
             }
            },
            "type": "table"
           }
          ]
         },
         "layout": {
          "annotationdefaults": {
           "arrowcolor": "#2a3f5f",
           "arrowhead": 0,
           "arrowwidth": 1
          },
          "colorscale": {
           "diverging": [
            [
             0,
             "#8e0152"
            ],
            [
             0.1,
             "#c51b7d"
            ],
            [
             0.2,
             "#de77ae"
            ],
            [
             0.3,
             "#f1b6da"
            ],
            [
             0.4,
             "#fde0ef"
            ],
            [
             0.5,
             "#f7f7f7"
            ],
            [
             0.6,
             "#e6f5d0"
            ],
            [
             0.7,
             "#b8e186"
            ],
            [
             0.8,
             "#7fbc41"
            ],
            [
             0.9,
             "#4d9221"
            ],
            [
             1,
             "#276419"
            ]
           ],
           "sequential": [
            [
             0,
             "#0d0887"
            ],
            [
             0.1111111111111111,
             "#46039f"
            ],
            [
             0.2222222222222222,
             "#7201a8"
            ],
            [
             0.3333333333333333,
             "#9c179e"
            ],
            [
             0.4444444444444444,
             "#bd3786"
            ],
            [
             0.5555555555555556,
             "#d8576b"
            ],
            [
             0.6666666666666666,
             "#ed7953"
            ],
            [
             0.7777777777777778,
             "#fb9f3a"
            ],
            [
             0.8888888888888888,
             "#fdca26"
            ],
            [
             1,
             "#f0f921"
            ]
           ],
           "sequentialminus": [
            [
             0,
             "#0d0887"
            ],
            [
             0.1111111111111111,
             "#46039f"
            ],
            [
             0.2222222222222222,
             "#7201a8"
            ],
            [
             0.3333333333333333,
             "#9c179e"
            ],
            [
             0.4444444444444444,
             "#bd3786"
            ],
            [
             0.5555555555555556,
             "#d8576b"
            ],
            [
             0.6666666666666666,
             "#ed7953"
            ],
            [
             0.7777777777777778,
             "#fb9f3a"
            ],
            [
             0.8888888888888888,
             "#fdca26"
            ],
            [
             1,
             "#f0f921"
            ]
           ]
          },
          "colorway": [
           "#636efa",
           "#EF553B",
           "#00cc96",
           "#ab63fa",
           "#FFA15A",
           "#19d3f3",
           "#FF6692",
           "#B6E880",
           "#FF97FF",
           "#FECB52"
          ],
          "font": {
           "color": "#2a3f5f"
          },
          "geo": {
           "bgcolor": "white",
           "lakecolor": "white",
           "landcolor": "#E5ECF6",
           "showlakes": true,
           "showland": true,
           "subunitcolor": "white"
          },
          "hoverlabel": {
           "align": "left"
          },
          "hovermode": "closest",
          "mapbox": {
           "style": "light"
          },
          "paper_bgcolor": "white",
          "plot_bgcolor": "#E5ECF6",
          "polar": {
           "angularaxis": {
            "gridcolor": "white",
            "linecolor": "white",
            "ticks": ""
           },
           "bgcolor": "#E5ECF6",
           "radialaxis": {
            "gridcolor": "white",
            "linecolor": "white",
            "ticks": ""
           }
          },
          "scene": {
           "xaxis": {
            "backgroundcolor": "#E5ECF6",
            "gridcolor": "white",
            "gridwidth": 2,
            "linecolor": "white",
            "showbackground": true,
            "ticks": "",
            "zerolinecolor": "white"
           },
           "yaxis": {
            "backgroundcolor": "#E5ECF6",
            "gridcolor": "white",
            "gridwidth": 2,
            "linecolor": "white",
            "showbackground": true,
            "ticks": "",
            "zerolinecolor": "white"
           },
           "zaxis": {
            "backgroundcolor": "#E5ECF6",
            "gridcolor": "white",
            "gridwidth": 2,
            "linecolor": "white",
            "showbackground": true,
            "ticks": "",
            "zerolinecolor": "white"
           }
          },
          "shapedefaults": {
           "line": {
            "color": "#2a3f5f"
           }
          },
          "ternary": {
           "aaxis": {
            "gridcolor": "white",
            "linecolor": "white",
            "ticks": ""
           },
           "baxis": {
            "gridcolor": "white",
            "linecolor": "white",
            "ticks": ""
           },
           "bgcolor": "#E5ECF6",
           "caxis": {
            "gridcolor": "white",
            "linecolor": "white",
            "ticks": ""
           }
          },
          "title": {
           "x": 0.05
          },
          "xaxis": {
           "automargin": true,
           "gridcolor": "white",
           "linecolor": "white",
           "ticks": "",
           "zerolinecolor": "white",
           "zerolinewidth": 2
          },
          "yaxis": {
           "automargin": true,
           "gridcolor": "white",
           "linecolor": "white",
           "ticks": "",
           "zerolinecolor": "white",
           "zerolinewidth": 2
          }
         }
        }
       }
      },
      "text/html": [
       "<div>\n",
       "        \n",
       "        \n",
       "            <div id=\"40e2f79c-20dd-42ac-88ea-0327d5eb1d47\" class=\"plotly-graph-div\" style=\"height:525px; width:100%;\"></div>\n",
       "            <script type=\"text/javascript\">\n",
       "                require([\"plotly\"], function(Plotly) {\n",
       "                    window.PLOTLYENV=window.PLOTLYENV || {};\n",
       "                    \n",
       "                if (document.getElementById(\"40e2f79c-20dd-42ac-88ea-0327d5eb1d47\")) {\n",
       "                    Plotly.newPlot(\n",
       "                        '40e2f79c-20dd-42ac-88ea-0327d5eb1d47',\n",
       "                        [{\"type\": \"bar\", \"y\": [2, 3, 1]}],\n",
       "                        {\"template\": {\"data\": {\"bar\": [{\"error_x\": {\"color\": \"#2a3f5f\"}, \"error_y\": {\"color\": \"#2a3f5f\"}, \"marker\": {\"line\": {\"color\": \"#E5ECF6\", \"width\": 0.5}}, \"type\": \"bar\"}], \"barpolar\": [{\"marker\": {\"line\": {\"color\": \"#E5ECF6\", \"width\": 0.5}}, \"type\": \"barpolar\"}], \"carpet\": [{\"aaxis\": {\"endlinecolor\": \"#2a3f5f\", \"gridcolor\": \"white\", \"linecolor\": \"white\", \"minorgridcolor\": \"white\", \"startlinecolor\": \"#2a3f5f\"}, \"baxis\": {\"endlinecolor\": \"#2a3f5f\", \"gridcolor\": \"white\", \"linecolor\": \"white\", \"minorgridcolor\": \"white\", \"startlinecolor\": \"#2a3f5f\"}, \"type\": \"carpet\"}], \"choropleth\": [{\"colorbar\": {\"outlinewidth\": 0, \"ticks\": \"\"}, \"type\": \"choropleth\"}], \"contour\": [{\"colorbar\": {\"outlinewidth\": 0, \"ticks\": \"\"}, \"colorscale\": [[0.0, \"#0d0887\"], [0.1111111111111111, \"#46039f\"], [0.2222222222222222, \"#7201a8\"], [0.3333333333333333, \"#9c179e\"], [0.4444444444444444, \"#bd3786\"], [0.5555555555555556, \"#d8576b\"], [0.6666666666666666, \"#ed7953\"], [0.7777777777777778, \"#fb9f3a\"], [0.8888888888888888, \"#fdca26\"], [1.0, \"#f0f921\"]], \"type\": \"contour\"}], \"contourcarpet\": [{\"colorbar\": {\"outlinewidth\": 0, \"ticks\": \"\"}, \"type\": \"contourcarpet\"}], \"heatmap\": [{\"colorbar\": {\"outlinewidth\": 0, \"ticks\": \"\"}, \"colorscale\": [[0.0, \"#0d0887\"], [0.1111111111111111, \"#46039f\"], [0.2222222222222222, \"#7201a8\"], [0.3333333333333333, \"#9c179e\"], [0.4444444444444444, \"#bd3786\"], [0.5555555555555556, \"#d8576b\"], [0.6666666666666666, \"#ed7953\"], [0.7777777777777778, \"#fb9f3a\"], [0.8888888888888888, \"#fdca26\"], [1.0, \"#f0f921\"]], \"type\": \"heatmap\"}], \"heatmapgl\": [{\"colorbar\": {\"outlinewidth\": 0, \"ticks\": \"\"}, \"colorscale\": [[0.0, \"#0d0887\"], [0.1111111111111111, \"#46039f\"], [0.2222222222222222, \"#7201a8\"], [0.3333333333333333, \"#9c179e\"], [0.4444444444444444, \"#bd3786\"], [0.5555555555555556, \"#d8576b\"], [0.6666666666666666, \"#ed7953\"], [0.7777777777777778, \"#fb9f3a\"], [0.8888888888888888, \"#fdca26\"], [1.0, \"#f0f921\"]], \"type\": \"heatmapgl\"}], \"histogram\": [{\"marker\": {\"colorbar\": {\"outlinewidth\": 0, \"ticks\": \"\"}}, \"type\": \"histogram\"}], \"histogram2d\": [{\"colorbar\": {\"outlinewidth\": 0, \"ticks\": \"\"}, \"colorscale\": [[0.0, \"#0d0887\"], [0.1111111111111111, \"#46039f\"], [0.2222222222222222, \"#7201a8\"], [0.3333333333333333, \"#9c179e\"], [0.4444444444444444, \"#bd3786\"], [0.5555555555555556, \"#d8576b\"], [0.6666666666666666, \"#ed7953\"], [0.7777777777777778, \"#fb9f3a\"], [0.8888888888888888, \"#fdca26\"], [1.0, \"#f0f921\"]], \"type\": \"histogram2d\"}], \"histogram2dcontour\": [{\"colorbar\": {\"outlinewidth\": 0, \"ticks\": \"\"}, \"colorscale\": [[0.0, \"#0d0887\"], [0.1111111111111111, \"#46039f\"], [0.2222222222222222, \"#7201a8\"], [0.3333333333333333, \"#9c179e\"], [0.4444444444444444, \"#bd3786\"], [0.5555555555555556, \"#d8576b\"], [0.6666666666666666, \"#ed7953\"], [0.7777777777777778, \"#fb9f3a\"], [0.8888888888888888, \"#fdca26\"], [1.0, \"#f0f921\"]], \"type\": \"histogram2dcontour\"}], \"mesh3d\": [{\"colorbar\": {\"outlinewidth\": 0, \"ticks\": \"\"}, \"type\": \"mesh3d\"}], \"parcoords\": [{\"line\": {\"colorbar\": {\"outlinewidth\": 0, \"ticks\": \"\"}}, \"type\": \"parcoords\"}], \"scatter\": [{\"marker\": {\"colorbar\": {\"outlinewidth\": 0, \"ticks\": \"\"}}, \"type\": \"scatter\"}], \"scatter3d\": [{\"line\": {\"colorbar\": {\"outlinewidth\": 0, \"ticks\": \"\"}}, \"marker\": {\"colorbar\": {\"outlinewidth\": 0, \"ticks\": \"\"}}, \"type\": \"scatter3d\"}], \"scattercarpet\": [{\"marker\": {\"colorbar\": {\"outlinewidth\": 0, \"ticks\": \"\"}}, \"type\": \"scattercarpet\"}], \"scattergeo\": [{\"marker\": {\"colorbar\": {\"outlinewidth\": 0, \"ticks\": \"\"}}, \"type\": \"scattergeo\"}], \"scattergl\": [{\"marker\": {\"colorbar\": {\"outlinewidth\": 0, \"ticks\": \"\"}}, \"type\": \"scattergl\"}], \"scattermapbox\": [{\"marker\": {\"colorbar\": {\"outlinewidth\": 0, \"ticks\": \"\"}}, \"type\": \"scattermapbox\"}], \"scatterpolar\": [{\"marker\": {\"colorbar\": {\"outlinewidth\": 0, \"ticks\": \"\"}}, \"type\": \"scatterpolar\"}], \"scatterpolargl\": [{\"marker\": {\"colorbar\": {\"outlinewidth\": 0, \"ticks\": \"\"}}, \"type\": \"scatterpolargl\"}], \"scatterternary\": [{\"marker\": {\"colorbar\": {\"outlinewidth\": 0, \"ticks\": \"\"}}, \"type\": \"scatterternary\"}], \"surface\": [{\"colorbar\": {\"outlinewidth\": 0, \"ticks\": \"\"}, \"colorscale\": [[0.0, \"#0d0887\"], [0.1111111111111111, \"#46039f\"], [0.2222222222222222, \"#7201a8\"], [0.3333333333333333, \"#9c179e\"], [0.4444444444444444, \"#bd3786\"], [0.5555555555555556, \"#d8576b\"], [0.6666666666666666, \"#ed7953\"], [0.7777777777777778, \"#fb9f3a\"], [0.8888888888888888, \"#fdca26\"], [1.0, \"#f0f921\"]], \"type\": \"surface\"}], \"table\": [{\"cells\": {\"fill\": {\"color\": \"#EBF0F8\"}, \"line\": {\"color\": \"white\"}}, \"header\": {\"fill\": {\"color\": \"#C8D4E3\"}, \"line\": {\"color\": \"white\"}}, \"type\": \"table\"}]}, \"layout\": {\"annotationdefaults\": {\"arrowcolor\": \"#2a3f5f\", \"arrowhead\": 0, \"arrowwidth\": 1}, \"colorscale\": {\"diverging\": [[0, \"#8e0152\"], [0.1, \"#c51b7d\"], [0.2, \"#de77ae\"], [0.3, \"#f1b6da\"], [0.4, \"#fde0ef\"], [0.5, \"#f7f7f7\"], [0.6, \"#e6f5d0\"], [0.7, \"#b8e186\"], [0.8, \"#7fbc41\"], [0.9, \"#4d9221\"], [1, \"#276419\"]], \"sequential\": [[0.0, \"#0d0887\"], [0.1111111111111111, \"#46039f\"], [0.2222222222222222, \"#7201a8\"], [0.3333333333333333, \"#9c179e\"], [0.4444444444444444, \"#bd3786\"], [0.5555555555555556, \"#d8576b\"], [0.6666666666666666, \"#ed7953\"], [0.7777777777777778, \"#fb9f3a\"], [0.8888888888888888, \"#fdca26\"], [1.0, \"#f0f921\"]], \"sequentialminus\": [[0.0, \"#0d0887\"], [0.1111111111111111, \"#46039f\"], [0.2222222222222222, \"#7201a8\"], [0.3333333333333333, \"#9c179e\"], [0.4444444444444444, \"#bd3786\"], [0.5555555555555556, \"#d8576b\"], [0.6666666666666666, \"#ed7953\"], [0.7777777777777778, \"#fb9f3a\"], [0.8888888888888888, \"#fdca26\"], [1.0, \"#f0f921\"]]}, \"colorway\": [\"#636efa\", \"#EF553B\", \"#00cc96\", \"#ab63fa\", \"#FFA15A\", \"#19d3f3\", \"#FF6692\", \"#B6E880\", \"#FF97FF\", \"#FECB52\"], \"font\": {\"color\": \"#2a3f5f\"}, \"geo\": {\"bgcolor\": \"white\", \"lakecolor\": \"white\", \"landcolor\": \"#E5ECF6\", \"showlakes\": true, \"showland\": true, \"subunitcolor\": \"white\"}, \"hoverlabel\": {\"align\": \"left\"}, \"hovermode\": \"closest\", \"mapbox\": {\"style\": \"light\"}, \"paper_bgcolor\": \"white\", \"plot_bgcolor\": \"#E5ECF6\", \"polar\": {\"angularaxis\": {\"gridcolor\": \"white\", \"linecolor\": \"white\", \"ticks\": \"\"}, \"bgcolor\": \"#E5ECF6\", \"radialaxis\": {\"gridcolor\": \"white\", \"linecolor\": \"white\", \"ticks\": \"\"}}, \"scene\": {\"xaxis\": {\"backgroundcolor\": \"#E5ECF6\", \"gridcolor\": \"white\", \"gridwidth\": 2, \"linecolor\": \"white\", \"showbackground\": true, \"ticks\": \"\", \"zerolinecolor\": \"white\"}, \"yaxis\": {\"backgroundcolor\": \"#E5ECF6\", \"gridcolor\": \"white\", \"gridwidth\": 2, \"linecolor\": \"white\", \"showbackground\": true, \"ticks\": \"\", \"zerolinecolor\": \"white\"}, \"zaxis\": {\"backgroundcolor\": \"#E5ECF6\", \"gridcolor\": \"white\", \"gridwidth\": 2, \"linecolor\": \"white\", \"showbackground\": true, \"ticks\": \"\", \"zerolinecolor\": \"white\"}}, \"shapedefaults\": {\"line\": {\"color\": \"#2a3f5f\"}}, \"ternary\": {\"aaxis\": {\"gridcolor\": \"white\", \"linecolor\": \"white\", \"ticks\": \"\"}, \"baxis\": {\"gridcolor\": \"white\", \"linecolor\": \"white\", \"ticks\": \"\"}, \"bgcolor\": \"#E5ECF6\", \"caxis\": {\"gridcolor\": \"white\", \"linecolor\": \"white\", \"ticks\": \"\"}}, \"title\": {\"x\": 0.05}, \"xaxis\": {\"automargin\": true, \"gridcolor\": \"white\", \"linecolor\": \"white\", \"ticks\": \"\", \"zerolinecolor\": \"white\", \"zerolinewidth\": 2}, \"yaxis\": {\"automargin\": true, \"gridcolor\": \"white\", \"linecolor\": \"white\", \"ticks\": \"\", \"zerolinecolor\": \"white\", \"zerolinewidth\": 2}}}},\n",
       "                        {\"responsive\": true}\n",
       "                    ).then(function(){\n",
       "                            \n",
       "var gd = document.getElementById('40e2f79c-20dd-42ac-88ea-0327d5eb1d47');\n",
       "var x = new MutationObserver(function (mutations, observer) {{\n",
       "        var display = window.getComputedStyle(gd).display;\n",
       "        if (!display || display === 'none') {{\n",
       "            console.log([gd, 'removed!']);\n",
       "            Plotly.purge(gd);\n",
       "            observer.disconnect();\n",
       "        }}\n",
       "}});\n",
       "\n",
       "// Listen for the removal of the full notebook cells\n",
       "var notebookContainer = gd.closest('#notebook-container');\n",
       "if (notebookContainer) {{\n",
       "    x.observe(notebookContainer, {childList: true});\n",
       "}}\n",
       "\n",
       "// Listen for the clearing of the current output cell\n",
       "var outputEl = gd.closest('.output');\n",
       "if (outputEl) {{\n",
       "    x.observe(outputEl, {childList: true});\n",
       "}}\n",
       "\n",
       "                        })\n",
       "                };\n",
       "                });\n",
       "            </script>\n",
       "        </div>"
      ]
     },
     "metadata": {},
     "output_type": "display_data"
    }
   ],
   "source": [
    "import plotly.graph_objects as go\n",
    "fig = go.Figure(data=go.Bar(y=[2, 3, 1]))\n",
    "fig.show()"
   ]
  },
  {
   "cell_type": "code",
   "execution_count": 114,
   "metadata": {},
   "outputs": [
    {
     "data": {
      "application/vnd.plotly.v1+json": {
       "config": {
        "plotlyServerURL": "https://plot.ly"
       },
       "data": [
        {
         "type": "bar",
         "y": [
          2,
          3,
          1
         ]
        }
       ],
       "layout": {
        "template": {
         "data": {
          "bar": [
           {
            "error_x": {
             "color": "#2a3f5f"
            },
            "error_y": {
             "color": "#2a3f5f"
            },
            "marker": {
             "line": {
              "color": "#E5ECF6",
              "width": 0.5
             }
            },
            "type": "bar"
           }
          ],
          "barpolar": [
           {
            "marker": {
             "line": {
              "color": "#E5ECF6",
              "width": 0.5
             }
            },
            "type": "barpolar"
           }
          ],
          "carpet": [
           {
            "aaxis": {
             "endlinecolor": "#2a3f5f",
             "gridcolor": "white",
             "linecolor": "white",
             "minorgridcolor": "white",
             "startlinecolor": "#2a3f5f"
            },
            "baxis": {
             "endlinecolor": "#2a3f5f",
             "gridcolor": "white",
             "linecolor": "white",
             "minorgridcolor": "white",
             "startlinecolor": "#2a3f5f"
            },
            "type": "carpet"
           }
          ],
          "choropleth": [
           {
            "colorbar": {
             "outlinewidth": 0,
             "ticks": ""
            },
            "type": "choropleth"
           }
          ],
          "contour": [
           {
            "colorbar": {
             "outlinewidth": 0,
             "ticks": ""
            },
            "colorscale": [
             [
              0,
              "#0d0887"
             ],
             [
              0.1111111111111111,
              "#46039f"
             ],
             [
              0.2222222222222222,
              "#7201a8"
             ],
             [
              0.3333333333333333,
              "#9c179e"
             ],
             [
              0.4444444444444444,
              "#bd3786"
             ],
             [
              0.5555555555555556,
              "#d8576b"
             ],
             [
              0.6666666666666666,
              "#ed7953"
             ],
             [
              0.7777777777777778,
              "#fb9f3a"
             ],
             [
              0.8888888888888888,
              "#fdca26"
             ],
             [
              1,
              "#f0f921"
             ]
            ],
            "type": "contour"
           }
          ],
          "contourcarpet": [
           {
            "colorbar": {
             "outlinewidth": 0,
             "ticks": ""
            },
            "type": "contourcarpet"
           }
          ],
          "heatmap": [
           {
            "colorbar": {
             "outlinewidth": 0,
             "ticks": ""
            },
            "colorscale": [
             [
              0,
              "#0d0887"
             ],
             [
              0.1111111111111111,
              "#46039f"
             ],
             [
              0.2222222222222222,
              "#7201a8"
             ],
             [
              0.3333333333333333,
              "#9c179e"
             ],
             [
              0.4444444444444444,
              "#bd3786"
             ],
             [
              0.5555555555555556,
              "#d8576b"
             ],
             [
              0.6666666666666666,
              "#ed7953"
             ],
             [
              0.7777777777777778,
              "#fb9f3a"
             ],
             [
              0.8888888888888888,
              "#fdca26"
             ],
             [
              1,
              "#f0f921"
             ]
            ],
            "type": "heatmap"
           }
          ],
          "heatmapgl": [
           {
            "colorbar": {
             "outlinewidth": 0,
             "ticks": ""
            },
            "colorscale": [
             [
              0,
              "#0d0887"
             ],
             [
              0.1111111111111111,
              "#46039f"
             ],
             [
              0.2222222222222222,
              "#7201a8"
             ],
             [
              0.3333333333333333,
              "#9c179e"
             ],
             [
              0.4444444444444444,
              "#bd3786"
             ],
             [
              0.5555555555555556,
              "#d8576b"
             ],
             [
              0.6666666666666666,
              "#ed7953"
             ],
             [
              0.7777777777777778,
              "#fb9f3a"
             ],
             [
              0.8888888888888888,
              "#fdca26"
             ],
             [
              1,
              "#f0f921"
             ]
            ],
            "type": "heatmapgl"
           }
          ],
          "histogram": [
           {
            "marker": {
             "colorbar": {
              "outlinewidth": 0,
              "ticks": ""
             }
            },
            "type": "histogram"
           }
          ],
          "histogram2d": [
           {
            "colorbar": {
             "outlinewidth": 0,
             "ticks": ""
            },
            "colorscale": [
             [
              0,
              "#0d0887"
             ],
             [
              0.1111111111111111,
              "#46039f"
             ],
             [
              0.2222222222222222,
              "#7201a8"
             ],
             [
              0.3333333333333333,
              "#9c179e"
             ],
             [
              0.4444444444444444,
              "#bd3786"
             ],
             [
              0.5555555555555556,
              "#d8576b"
             ],
             [
              0.6666666666666666,
              "#ed7953"
             ],
             [
              0.7777777777777778,
              "#fb9f3a"
             ],
             [
              0.8888888888888888,
              "#fdca26"
             ],
             [
              1,
              "#f0f921"
             ]
            ],
            "type": "histogram2d"
           }
          ],
          "histogram2dcontour": [
           {
            "colorbar": {
             "outlinewidth": 0,
             "ticks": ""
            },
            "colorscale": [
             [
              0,
              "#0d0887"
             ],
             [
              0.1111111111111111,
              "#46039f"
             ],
             [
              0.2222222222222222,
              "#7201a8"
             ],
             [
              0.3333333333333333,
              "#9c179e"
             ],
             [
              0.4444444444444444,
              "#bd3786"
             ],
             [
              0.5555555555555556,
              "#d8576b"
             ],
             [
              0.6666666666666666,
              "#ed7953"
             ],
             [
              0.7777777777777778,
              "#fb9f3a"
             ],
             [
              0.8888888888888888,
              "#fdca26"
             ],
             [
              1,
              "#f0f921"
             ]
            ],
            "type": "histogram2dcontour"
           }
          ],
          "mesh3d": [
           {
            "colorbar": {
             "outlinewidth": 0,
             "ticks": ""
            },
            "type": "mesh3d"
           }
          ],
          "parcoords": [
           {
            "line": {
             "colorbar": {
              "outlinewidth": 0,
              "ticks": ""
             }
            },
            "type": "parcoords"
           }
          ],
          "scatter": [
           {
            "marker": {
             "colorbar": {
              "outlinewidth": 0,
              "ticks": ""
             }
            },
            "type": "scatter"
           }
          ],
          "scatter3d": [
           {
            "line": {
             "colorbar": {
              "outlinewidth": 0,
              "ticks": ""
             }
            },
            "marker": {
             "colorbar": {
              "outlinewidth": 0,
              "ticks": ""
             }
            },
            "type": "scatter3d"
           }
          ],
          "scattercarpet": [
           {
            "marker": {
             "colorbar": {
              "outlinewidth": 0,
              "ticks": ""
             }
            },
            "type": "scattercarpet"
           }
          ],
          "scattergeo": [
           {
            "marker": {
             "colorbar": {
              "outlinewidth": 0,
              "ticks": ""
             }
            },
            "type": "scattergeo"
           }
          ],
          "scattergl": [
           {
            "marker": {
             "colorbar": {
              "outlinewidth": 0,
              "ticks": ""
             }
            },
            "type": "scattergl"
           }
          ],
          "scattermapbox": [
           {
            "marker": {
             "colorbar": {
              "outlinewidth": 0,
              "ticks": ""
             }
            },
            "type": "scattermapbox"
           }
          ],
          "scatterpolar": [
           {
            "marker": {
             "colorbar": {
              "outlinewidth": 0,
              "ticks": ""
             }
            },
            "type": "scatterpolar"
           }
          ],
          "scatterpolargl": [
           {
            "marker": {
             "colorbar": {
              "outlinewidth": 0,
              "ticks": ""
             }
            },
            "type": "scatterpolargl"
           }
          ],
          "scatterternary": [
           {
            "marker": {
             "colorbar": {
              "outlinewidth": 0,
              "ticks": ""
             }
            },
            "type": "scatterternary"
           }
          ],
          "surface": [
           {
            "colorbar": {
             "outlinewidth": 0,
             "ticks": ""
            },
            "colorscale": [
             [
              0,
              "#0d0887"
             ],
             [
              0.1111111111111111,
              "#46039f"
             ],
             [
              0.2222222222222222,
              "#7201a8"
             ],
             [
              0.3333333333333333,
              "#9c179e"
             ],
             [
              0.4444444444444444,
              "#bd3786"
             ],
             [
              0.5555555555555556,
              "#d8576b"
             ],
             [
              0.6666666666666666,
              "#ed7953"
             ],
             [
              0.7777777777777778,
              "#fb9f3a"
             ],
             [
              0.8888888888888888,
              "#fdca26"
             ],
             [
              1,
              "#f0f921"
             ]
            ],
            "type": "surface"
           }
          ],
          "table": [
           {
            "cells": {
             "fill": {
              "color": "#EBF0F8"
             },
             "line": {
              "color": "white"
             }
            },
            "header": {
             "fill": {
              "color": "#C8D4E3"
             },
             "line": {
              "color": "white"
             }
            },
            "type": "table"
           }
          ]
         },
         "layout": {
          "annotationdefaults": {
           "arrowcolor": "#2a3f5f",
           "arrowhead": 0,
           "arrowwidth": 1
          },
          "colorscale": {
           "diverging": [
            [
             0,
             "#8e0152"
            ],
            [
             0.1,
             "#c51b7d"
            ],
            [
             0.2,
             "#de77ae"
            ],
            [
             0.3,
             "#f1b6da"
            ],
            [
             0.4,
             "#fde0ef"
            ],
            [
             0.5,
             "#f7f7f7"
            ],
            [
             0.6,
             "#e6f5d0"
            ],
            [
             0.7,
             "#b8e186"
            ],
            [
             0.8,
             "#7fbc41"
            ],
            [
             0.9,
             "#4d9221"
            ],
            [
             1,
             "#276419"
            ]
           ],
           "sequential": [
            [
             0,
             "#0d0887"
            ],
            [
             0.1111111111111111,
             "#46039f"
            ],
            [
             0.2222222222222222,
             "#7201a8"
            ],
            [
             0.3333333333333333,
             "#9c179e"
            ],
            [
             0.4444444444444444,
             "#bd3786"
            ],
            [
             0.5555555555555556,
             "#d8576b"
            ],
            [
             0.6666666666666666,
             "#ed7953"
            ],
            [
             0.7777777777777778,
             "#fb9f3a"
            ],
            [
             0.8888888888888888,
             "#fdca26"
            ],
            [
             1,
             "#f0f921"
            ]
           ],
           "sequentialminus": [
            [
             0,
             "#0d0887"
            ],
            [
             0.1111111111111111,
             "#46039f"
            ],
            [
             0.2222222222222222,
             "#7201a8"
            ],
            [
             0.3333333333333333,
             "#9c179e"
            ],
            [
             0.4444444444444444,
             "#bd3786"
            ],
            [
             0.5555555555555556,
             "#d8576b"
            ],
            [
             0.6666666666666666,
             "#ed7953"
            ],
            [
             0.7777777777777778,
             "#fb9f3a"
            ],
            [
             0.8888888888888888,
             "#fdca26"
            ],
            [
             1,
             "#f0f921"
            ]
           ]
          },
          "colorway": [
           "#636efa",
           "#EF553B",
           "#00cc96",
           "#ab63fa",
           "#FFA15A",
           "#19d3f3",
           "#FF6692",
           "#B6E880",
           "#FF97FF",
           "#FECB52"
          ],
          "font": {
           "color": "#2a3f5f"
          },
          "geo": {
           "bgcolor": "white",
           "lakecolor": "white",
           "landcolor": "#E5ECF6",
           "showlakes": true,
           "showland": true,
           "subunitcolor": "white"
          },
          "hoverlabel": {
           "align": "left"
          },
          "hovermode": "closest",
          "mapbox": {
           "style": "light"
          },
          "paper_bgcolor": "white",
          "plot_bgcolor": "#E5ECF6",
          "polar": {
           "angularaxis": {
            "gridcolor": "white",
            "linecolor": "white",
            "ticks": ""
           },
           "bgcolor": "#E5ECF6",
           "radialaxis": {
            "gridcolor": "white",
            "linecolor": "white",
            "ticks": ""
           }
          },
          "scene": {
           "xaxis": {
            "backgroundcolor": "#E5ECF6",
            "gridcolor": "white",
            "gridwidth": 2,
            "linecolor": "white",
            "showbackground": true,
            "ticks": "",
            "zerolinecolor": "white"
           },
           "yaxis": {
            "backgroundcolor": "#E5ECF6",
            "gridcolor": "white",
            "gridwidth": 2,
            "linecolor": "white",
            "showbackground": true,
            "ticks": "",
            "zerolinecolor": "white"
           },
           "zaxis": {
            "backgroundcolor": "#E5ECF6",
            "gridcolor": "white",
            "gridwidth": 2,
            "linecolor": "white",
            "showbackground": true,
            "ticks": "",
            "zerolinecolor": "white"
           }
          },
          "shapedefaults": {
           "line": {
            "color": "#2a3f5f"
           }
          },
          "ternary": {
           "aaxis": {
            "gridcolor": "white",
            "linecolor": "white",
            "ticks": ""
           },
           "baxis": {
            "gridcolor": "white",
            "linecolor": "white",
            "ticks": ""
           },
           "bgcolor": "#E5ECF6",
           "caxis": {
            "gridcolor": "white",
            "linecolor": "white",
            "ticks": ""
           }
          },
          "title": {
           "x": 0.05
          },
          "xaxis": {
           "automargin": true,
           "gridcolor": "white",
           "linecolor": "white",
           "ticks": "",
           "zerolinecolor": "white",
           "zerolinewidth": 2
          },
          "yaxis": {
           "automargin": true,
           "gridcolor": "white",
           "linecolor": "white",
           "ticks": "",
           "zerolinecolor": "white",
           "zerolinewidth": 2
          }
         }
        }
       }
      },
      "text/html": [
       "<div>\n",
       "        \n",
       "        \n",
       "            <div id=\"7a247e17-362d-475b-96d2-1b5b07883c28\" class=\"plotly-graph-div\" style=\"height:525px; width:100%;\"></div>\n",
       "            <script type=\"text/javascript\">\n",
       "                require([\"plotly\"], function(Plotly) {\n",
       "                    window.PLOTLYENV=window.PLOTLYENV || {};\n",
       "                    \n",
       "                if (document.getElementById(\"7a247e17-362d-475b-96d2-1b5b07883c28\")) {\n",
       "                    Plotly.newPlot(\n",
       "                        '7a247e17-362d-475b-96d2-1b5b07883c28',\n",
       "                        [{\"type\": \"bar\", \"y\": [2, 3, 1]}],\n",
       "                        {\"template\": {\"data\": {\"bar\": [{\"error_x\": {\"color\": \"#2a3f5f\"}, \"error_y\": {\"color\": \"#2a3f5f\"}, \"marker\": {\"line\": {\"color\": \"#E5ECF6\", \"width\": 0.5}}, \"type\": \"bar\"}], \"barpolar\": [{\"marker\": {\"line\": {\"color\": \"#E5ECF6\", \"width\": 0.5}}, \"type\": \"barpolar\"}], \"carpet\": [{\"aaxis\": {\"endlinecolor\": \"#2a3f5f\", \"gridcolor\": \"white\", \"linecolor\": \"white\", \"minorgridcolor\": \"white\", \"startlinecolor\": \"#2a3f5f\"}, \"baxis\": {\"endlinecolor\": \"#2a3f5f\", \"gridcolor\": \"white\", \"linecolor\": \"white\", \"minorgridcolor\": \"white\", \"startlinecolor\": \"#2a3f5f\"}, \"type\": \"carpet\"}], \"choropleth\": [{\"colorbar\": {\"outlinewidth\": 0, \"ticks\": \"\"}, \"type\": \"choropleth\"}], \"contour\": [{\"colorbar\": {\"outlinewidth\": 0, \"ticks\": \"\"}, \"colorscale\": [[0.0, \"#0d0887\"], [0.1111111111111111, \"#46039f\"], [0.2222222222222222, \"#7201a8\"], [0.3333333333333333, \"#9c179e\"], [0.4444444444444444, \"#bd3786\"], [0.5555555555555556, \"#d8576b\"], [0.6666666666666666, \"#ed7953\"], [0.7777777777777778, \"#fb9f3a\"], [0.8888888888888888, \"#fdca26\"], [1.0, \"#f0f921\"]], \"type\": \"contour\"}], \"contourcarpet\": [{\"colorbar\": {\"outlinewidth\": 0, \"ticks\": \"\"}, \"type\": \"contourcarpet\"}], \"heatmap\": [{\"colorbar\": {\"outlinewidth\": 0, \"ticks\": \"\"}, \"colorscale\": [[0.0, \"#0d0887\"], [0.1111111111111111, \"#46039f\"], [0.2222222222222222, \"#7201a8\"], [0.3333333333333333, \"#9c179e\"], [0.4444444444444444, \"#bd3786\"], [0.5555555555555556, \"#d8576b\"], [0.6666666666666666, \"#ed7953\"], [0.7777777777777778, \"#fb9f3a\"], [0.8888888888888888, \"#fdca26\"], [1.0, \"#f0f921\"]], \"type\": \"heatmap\"}], \"heatmapgl\": [{\"colorbar\": {\"outlinewidth\": 0, \"ticks\": \"\"}, \"colorscale\": [[0.0, \"#0d0887\"], [0.1111111111111111, \"#46039f\"], [0.2222222222222222, \"#7201a8\"], [0.3333333333333333, \"#9c179e\"], [0.4444444444444444, \"#bd3786\"], [0.5555555555555556, \"#d8576b\"], [0.6666666666666666, \"#ed7953\"], [0.7777777777777778, \"#fb9f3a\"], [0.8888888888888888, \"#fdca26\"], [1.0, \"#f0f921\"]], \"type\": \"heatmapgl\"}], \"histogram\": [{\"marker\": {\"colorbar\": {\"outlinewidth\": 0, \"ticks\": \"\"}}, \"type\": \"histogram\"}], \"histogram2d\": [{\"colorbar\": {\"outlinewidth\": 0, \"ticks\": \"\"}, \"colorscale\": [[0.0, \"#0d0887\"], [0.1111111111111111, \"#46039f\"], [0.2222222222222222, \"#7201a8\"], [0.3333333333333333, \"#9c179e\"], [0.4444444444444444, \"#bd3786\"], [0.5555555555555556, \"#d8576b\"], [0.6666666666666666, \"#ed7953\"], [0.7777777777777778, \"#fb9f3a\"], [0.8888888888888888, \"#fdca26\"], [1.0, \"#f0f921\"]], \"type\": \"histogram2d\"}], \"histogram2dcontour\": [{\"colorbar\": {\"outlinewidth\": 0, \"ticks\": \"\"}, \"colorscale\": [[0.0, \"#0d0887\"], [0.1111111111111111, \"#46039f\"], [0.2222222222222222, \"#7201a8\"], [0.3333333333333333, \"#9c179e\"], [0.4444444444444444, \"#bd3786\"], [0.5555555555555556, \"#d8576b\"], [0.6666666666666666, \"#ed7953\"], [0.7777777777777778, \"#fb9f3a\"], [0.8888888888888888, \"#fdca26\"], [1.0, \"#f0f921\"]], \"type\": \"histogram2dcontour\"}], \"mesh3d\": [{\"colorbar\": {\"outlinewidth\": 0, \"ticks\": \"\"}, \"type\": \"mesh3d\"}], \"parcoords\": [{\"line\": {\"colorbar\": {\"outlinewidth\": 0, \"ticks\": \"\"}}, \"type\": \"parcoords\"}], \"scatter\": [{\"marker\": {\"colorbar\": {\"outlinewidth\": 0, \"ticks\": \"\"}}, \"type\": \"scatter\"}], \"scatter3d\": [{\"line\": {\"colorbar\": {\"outlinewidth\": 0, \"ticks\": \"\"}}, \"marker\": {\"colorbar\": {\"outlinewidth\": 0, \"ticks\": \"\"}}, \"type\": \"scatter3d\"}], \"scattercarpet\": [{\"marker\": {\"colorbar\": {\"outlinewidth\": 0, \"ticks\": \"\"}}, \"type\": \"scattercarpet\"}], \"scattergeo\": [{\"marker\": {\"colorbar\": {\"outlinewidth\": 0, \"ticks\": \"\"}}, \"type\": \"scattergeo\"}], \"scattergl\": [{\"marker\": {\"colorbar\": {\"outlinewidth\": 0, \"ticks\": \"\"}}, \"type\": \"scattergl\"}], \"scattermapbox\": [{\"marker\": {\"colorbar\": {\"outlinewidth\": 0, \"ticks\": \"\"}}, \"type\": \"scattermapbox\"}], \"scatterpolar\": [{\"marker\": {\"colorbar\": {\"outlinewidth\": 0, \"ticks\": \"\"}}, \"type\": \"scatterpolar\"}], \"scatterpolargl\": [{\"marker\": {\"colorbar\": {\"outlinewidth\": 0, \"ticks\": \"\"}}, \"type\": \"scatterpolargl\"}], \"scatterternary\": [{\"marker\": {\"colorbar\": {\"outlinewidth\": 0, \"ticks\": \"\"}}, \"type\": \"scatterternary\"}], \"surface\": [{\"colorbar\": {\"outlinewidth\": 0, \"ticks\": \"\"}, \"colorscale\": [[0.0, \"#0d0887\"], [0.1111111111111111, \"#46039f\"], [0.2222222222222222, \"#7201a8\"], [0.3333333333333333, \"#9c179e\"], [0.4444444444444444, \"#bd3786\"], [0.5555555555555556, \"#d8576b\"], [0.6666666666666666, \"#ed7953\"], [0.7777777777777778, \"#fb9f3a\"], [0.8888888888888888, \"#fdca26\"], [1.0, \"#f0f921\"]], \"type\": \"surface\"}], \"table\": [{\"cells\": {\"fill\": {\"color\": \"#EBF0F8\"}, \"line\": {\"color\": \"white\"}}, \"header\": {\"fill\": {\"color\": \"#C8D4E3\"}, \"line\": {\"color\": \"white\"}}, \"type\": \"table\"}]}, \"layout\": {\"annotationdefaults\": {\"arrowcolor\": \"#2a3f5f\", \"arrowhead\": 0, \"arrowwidth\": 1}, \"colorscale\": {\"diverging\": [[0, \"#8e0152\"], [0.1, \"#c51b7d\"], [0.2, \"#de77ae\"], [0.3, \"#f1b6da\"], [0.4, \"#fde0ef\"], [0.5, \"#f7f7f7\"], [0.6, \"#e6f5d0\"], [0.7, \"#b8e186\"], [0.8, \"#7fbc41\"], [0.9, \"#4d9221\"], [1, \"#276419\"]], \"sequential\": [[0.0, \"#0d0887\"], [0.1111111111111111, \"#46039f\"], [0.2222222222222222, \"#7201a8\"], [0.3333333333333333, \"#9c179e\"], [0.4444444444444444, \"#bd3786\"], [0.5555555555555556, \"#d8576b\"], [0.6666666666666666, \"#ed7953\"], [0.7777777777777778, \"#fb9f3a\"], [0.8888888888888888, \"#fdca26\"], [1.0, \"#f0f921\"]], \"sequentialminus\": [[0.0, \"#0d0887\"], [0.1111111111111111, \"#46039f\"], [0.2222222222222222, \"#7201a8\"], [0.3333333333333333, \"#9c179e\"], [0.4444444444444444, \"#bd3786\"], [0.5555555555555556, \"#d8576b\"], [0.6666666666666666, \"#ed7953\"], [0.7777777777777778, \"#fb9f3a\"], [0.8888888888888888, \"#fdca26\"], [1.0, \"#f0f921\"]]}, \"colorway\": [\"#636efa\", \"#EF553B\", \"#00cc96\", \"#ab63fa\", \"#FFA15A\", \"#19d3f3\", \"#FF6692\", \"#B6E880\", \"#FF97FF\", \"#FECB52\"], \"font\": {\"color\": \"#2a3f5f\"}, \"geo\": {\"bgcolor\": \"white\", \"lakecolor\": \"white\", \"landcolor\": \"#E5ECF6\", \"showlakes\": true, \"showland\": true, \"subunitcolor\": \"white\"}, \"hoverlabel\": {\"align\": \"left\"}, \"hovermode\": \"closest\", \"mapbox\": {\"style\": \"light\"}, \"paper_bgcolor\": \"white\", \"plot_bgcolor\": \"#E5ECF6\", \"polar\": {\"angularaxis\": {\"gridcolor\": \"white\", \"linecolor\": \"white\", \"ticks\": \"\"}, \"bgcolor\": \"#E5ECF6\", \"radialaxis\": {\"gridcolor\": \"white\", \"linecolor\": \"white\", \"ticks\": \"\"}}, \"scene\": {\"xaxis\": {\"backgroundcolor\": \"#E5ECF6\", \"gridcolor\": \"white\", \"gridwidth\": 2, \"linecolor\": \"white\", \"showbackground\": true, \"ticks\": \"\", \"zerolinecolor\": \"white\"}, \"yaxis\": {\"backgroundcolor\": \"#E5ECF6\", \"gridcolor\": \"white\", \"gridwidth\": 2, \"linecolor\": \"white\", \"showbackground\": true, \"ticks\": \"\", \"zerolinecolor\": \"white\"}, \"zaxis\": {\"backgroundcolor\": \"#E5ECF6\", \"gridcolor\": \"white\", \"gridwidth\": 2, \"linecolor\": \"white\", \"showbackground\": true, \"ticks\": \"\", \"zerolinecolor\": \"white\"}}, \"shapedefaults\": {\"line\": {\"color\": \"#2a3f5f\"}}, \"ternary\": {\"aaxis\": {\"gridcolor\": \"white\", \"linecolor\": \"white\", \"ticks\": \"\"}, \"baxis\": {\"gridcolor\": \"white\", \"linecolor\": \"white\", \"ticks\": \"\"}, \"bgcolor\": \"#E5ECF6\", \"caxis\": {\"gridcolor\": \"white\", \"linecolor\": \"white\", \"ticks\": \"\"}}, \"title\": {\"x\": 0.05}, \"xaxis\": {\"automargin\": true, \"gridcolor\": \"white\", \"linecolor\": \"white\", \"ticks\": \"\", \"zerolinecolor\": \"white\", \"zerolinewidth\": 2}, \"yaxis\": {\"automargin\": true, \"gridcolor\": \"white\", \"linecolor\": \"white\", \"ticks\": \"\", \"zerolinecolor\": \"white\", \"zerolinewidth\": 2}}}},\n",
       "                        {\"responsive\": true}\n",
       "                    ).then(function(){\n",
       "                            \n",
       "var gd = document.getElementById('7a247e17-362d-475b-96d2-1b5b07883c28');\n",
       "var x = new MutationObserver(function (mutations, observer) {{\n",
       "        var display = window.getComputedStyle(gd).display;\n",
       "        if (!display || display === 'none') {{\n",
       "            console.log([gd, 'removed!']);\n",
       "            Plotly.purge(gd);\n",
       "            observer.disconnect();\n",
       "        }}\n",
       "}});\n",
       "\n",
       "// Listen for the removal of the full notebook cells\n",
       "var notebookContainer = gd.closest('#notebook-container');\n",
       "if (notebookContainer) {{\n",
       "    x.observe(notebookContainer, {childList: true});\n",
       "}}\n",
       "\n",
       "// Listen for the clearing of the current output cell\n",
       "var outputEl = gd.closest('.output');\n",
       "if (outputEl) {{\n",
       "    x.observe(outputEl, {childList: true});\n",
       "}}\n",
       "\n",
       "                        })\n",
       "                };\n",
       "                });\n",
       "            </script>\n",
       "        </div>"
      ]
     },
     "metadata": {},
     "output_type": "display_data"
    }
   ],
   "source": [
    "fig"
   ]
  },
  {
   "cell_type": "code",
   "execution_count": null,
   "metadata": {},
   "outputs": [],
   "source": []
  }
 ],
 "metadata": {
  "kernelspec": {
   "display_name": "Python 3",
   "language": "python",
   "name": "python3"
  },
  "language_info": {
   "codemirror_mode": {
    "name": "ipython",
    "version": 3
   },
   "file_extension": ".py",
   "mimetype": "text/x-python",
   "name": "python",
   "nbconvert_exporter": "python",
   "pygments_lexer": "ipython3",
   "version": "3.7.3"
  }
 },
 "nbformat": 4,
 "nbformat_minor": 2
}
